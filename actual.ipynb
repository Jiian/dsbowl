{
 "cells": [
  {
   "cell_type": "markdown",
   "metadata": {
    "heading_collapsed": true
   },
   "source": [
    "## Imports and Functions definition"
   ]
  },
  {
   "cell_type": "markdown",
   "metadata": {
    "hidden": true
   },
   "source": [
    "Import from FastAI v0.7x library and some necessary functions definition"
   ]
  },
  {
   "cell_type": "code",
   "execution_count": 1,
   "metadata": {
    "ExecuteTime": {
     "end_time": "2020-07-17T01:11:06.365736Z",
     "start_time": "2020-07-17T01:11:02.122652Z"
    },
    "hidden": true
   },
   "outputs": [
    {
     "name": "stderr",
     "output_type": "stream",
     "text": [
      "C:\\Users\\ohjia\\anaconda3\\envs\\fastai-cpu\\lib\\site-packages\\dask\\config.py:168: YAMLLoadWarning: calling yaml.load() without Loader=... is deprecated, as the default Loader is unsafe. Please read https://msg.pyyaml.org/load for full details.\n",
      "  data = yaml.load(f.read()) or {}\n",
      "C:\\Users\\ohjia\\anaconda3\\envs\\fastai-cpu\\lib\\site-packages\\sklearn\\utils\\deprecation.py:144: FutureWarning: The sklearn.ensemble.forest module is  deprecated in version 0.22 and will be removed in version 0.24. The corresponding classes / functions should instead be imported from sklearn.ensemble. Anything that cannot be imported from sklearn.ensemble is now part of the private API.\n",
      "  warnings.warn(message, FutureWarning)\n"
     ]
    }
   ],
   "source": [
    "%load_ext autoreload\n",
    "%autoreload 2\n",
    "%matplotlib inline\n",
    "\n",
    "from fastai.imports import *\n",
    "from fastai.structured import *\n",
    "from IPython.display import display\n",
    "\n",
    "def head_file(path):\n",
    "    with open(path) as f:\n",
    "        for _ in range(5):\n",
    "            print(f.readline())\n",
    "\n",
    "def split_val(a, n):\n",
    "    return a[:n].copy(), a[n:].copy()\n",
    "\n",
    "def display_all(df):\n",
    "    with pd.option_context(\"display.max_rows\", 1000, \"display.max_columns\", 1000):\n",
    "        display(df)"
   ]
  },
  {
   "cell_type": "markdown",
   "metadata": {
    "hidden": true
   },
   "source": [
    "Functions from Ben Hamner is used here for evaluation metrics (Quadratic weighted kappa)  \n",
    "A scoring function was also defined"
   ]
  },
  {
   "cell_type": "code",
   "execution_count": 51,
   "metadata": {
    "ExecuteTime": {
     "end_time": "2020-07-17T01:33:50.421401Z",
     "start_time": "2020-07-17T01:33:50.317402Z"
    },
    "hidden": true
   },
   "outputs": [],
   "source": [
    "# The following 3 functions have been taken from Ben Hamner's github repository\n",
    "# https://github.com/benhamner/Metrics\n",
    "def Cmatrix(rater_a, rater_b, min_rating=None, max_rating=None):\n",
    "    assert(len(rater_a) == len(rater_b))\n",
    "    if min_rating is None:\n",
    "        min_rating = min(rater_a + rater_b)\n",
    "    if max_rating is None:\n",
    "        max_rating = max(rater_a + rater_b)\n",
    "    num_ratings = int(max_rating - min_rating + 1)\n",
    "    conf_mat = [[0 for i in range(num_ratings)]\n",
    "                for j in range(num_ratings)]\n",
    "    for a, b in zip(rater_a, rater_b):\n",
    "        conf_mat[a - min_rating][b - min_rating] += 1\n",
    "    return conf_mat\n",
    "def histogram(ratings, min_rating=None, max_rating=None):\n",
    "    if min_rating is None:\n",
    "        min_rating = min(ratings)\n",
    "    if max_rating is None:\n",
    "        max_rating = max(ratings)\n",
    "    num_ratings = int(max_rating - min_rating + 1)\n",
    "    hist_ratings = [0 for x in range(num_ratings)]\n",
    "    for r in ratings:\n",
    "        hist_ratings[r - min_rating] += 1\n",
    "    return hist_ratings\n",
    "def quadratic_weighted_kappa(y, y_pred):\n",
    "    rater_a = y\n",
    "    rater_b = y_pred\n",
    "    min_rating=None\n",
    "    max_rating=None\n",
    "    rater_a = np.array(rater_a, dtype=int)\n",
    "    rater_b = np.array(rater_b, dtype=int)\n",
    "    assert(len(rater_a) == len(rater_b))\n",
    "    if min_rating is None:\n",
    "        min_rating = min(min(rater_a), min(rater_b))\n",
    "    if max_rating is None:\n",
    "        max_rating = max(max(rater_a), max(rater_b))\n",
    "    conf_mat = Cmatrix(rater_a, rater_b,\n",
    "                                min_rating, max_rating)\n",
    "    num_ratings = len(conf_mat)\n",
    "    num_scored_items = float(len(rater_a))\n",
    "    hist_rater_a = histogram(rater_a, min_rating, max_rating)\n",
    "    hist_rater_b = histogram(rater_b, min_rating, max_rating)\n",
    "    numerator = 0.0\n",
    "    denominator = 0.0\n",
    "    for i in range(num_ratings):\n",
    "        for j in range(num_ratings):\n",
    "            expected_count = (hist_rater_a[i] * hist_rater_b[j]\n",
    "                              / num_scored_items)\n",
    "            d = pow(i - j, 2.0) / pow(num_ratings - 1, 2.0)\n",
    "            numerator += d * conf_mat[i][j] / num_scored_items\n",
    "            denominator += d * expected_count / num_scored_items\n",
    "    return (1.0 - numerator / denominator)\n",
    "\n",
    "def print_score(m):\n",
    "    res = [\n",
    "        #\"train_Rsq: \", m.score(train_X, train_y), \"\\n\",\n",
    "        #\"validation_Rsq: \", m.score(valid_X, valid_y), \"\\n\",\n",
    "        \"train_Kappa\", quadratic_weighted_kappa(train_y.astype(str), m.predict(train_X).astype(str)), \"\\n\",\n",
    "        \"validation_Kappa\", quadratic_weighted_kappa(valid_y.astype(str), m.predict(valid_X).astype(str))\n",
    "    ]\n",
    "    if hasattr(m, \"oob_score_\"):\n",
    "        res.append(\"OOB_Score: \")\n",
    "        res.append(m.oob_score_)\n",
    "    for i in range(0, len(res)):\n",
    "        if res[i] == \"\\n\":\n",
    "            print(\"\\n\")\n",
    "        else:\n",
    "            print(res[i])"
   ]
  },
  {
   "cell_type": "markdown",
   "metadata": {
    "heading_collapsed": true
   },
   "source": [
    "## (Skip when re-run) Preliminary check of datasets"
   ]
  },
  {
   "cell_type": "markdown",
   "metadata": {
    "hidden": true
   },
   "source": [
    "Familiarise myself with the dataset before reading in, because the dataset size is huge and any re-runs would be time consuming."
   ]
  },
  {
   "cell_type": "code",
   "execution_count": 3,
   "metadata": {
    "hidden": true,
    "scrolled": true
   },
   "outputs": [
    {
     "name": "stdout",
     "output_type": "stream",
     "text": [
      " Volume in drive C is Windows\n",
      " Volume Serial Number is 4CA3-334F\n",
      "\n",
      " Directory of C:\\Users\\ohjia\\jupyter\\dsbowl\n",
      "\n",
      "16/06/2020  02:15 PM    <DIR>          .\n",
      "16/06/2020  02:15 PM    <DIR>          ..\n",
      "16/06/2020  01:52 PM    <DIR>          .ipynb_checkpoints\n",
      "16/06/2020  02:15 PM            28,003 Actual.ipynb\n",
      "07/06/2020  01:59 PM    <SYMLINKD>     fastai [..\\libraries\\fastai]\n",
      "07/06/2020  01:07 AM       398,327,795 test.csv\n",
      "16/06/2020  02:08 PM    <DIR>          tmp\n",
      "07/06/2020  01:01 AM     3,878,373,417 train.csv\n",
      "07/06/2020  12:50 AM         1,124,229 train_labels.csv\n",
      "14/06/2020  02:12 PM            72,893 Untitled.ipynb\n",
      "               5 File(s)  4,277,926,337 bytes\n",
      "               5 Dir(s)  171,395,940,352 bytes free\n"
     ]
    }
   ],
   "source": [
    "!dir"
   ]
  },
  {
   "cell_type": "code",
   "execution_count": 4,
   "metadata": {
    "hidden": true
   },
   "outputs": [
    {
     "name": "stdout",
     "output_type": "stream",
     "text": [
      "event_id,game_session,timestamp,event_data,installation_id,event_count,event_code,game_time,title,type,world\n",
      "\n",
      "27253bdc,45bb1e1b6b50c07b,2019-09-06T17:53:46.937Z,\"{\"\"event_code\"\": 2000, \"\"event_count\"\": 1}\",0001e90f,1,2000,0,Welcome to Lost Lagoon!,Clip,NONE\n",
      "\n",
      "27253bdc,17eeb7f223665f53,2019-09-06T17:54:17.519Z,\"{\"\"event_code\"\": 2000, \"\"event_count\"\": 1}\",0001e90f,1,2000,0,Magma Peak - Level 1,Clip,MAGMAPEAK\n",
      "\n",
      "77261ab5,0848ef14a8dc6892,2019-09-06T17:54:56.302Z,\"{\"\"version\"\":\"\"1.0\"\",\"\"event_count\"\":1,\"\"game_time\"\":0,\"\"event_code\"\":2000}\",0001e90f,1,2000,0,Sandcastle Builder (Activity),Activity,MAGMAPEAK\n",
      "\n",
      "b2dba42b,0848ef14a8dc6892,2019-09-06T17:54:56.387Z,\"{\"\"description\"\":\"\"Let's build a sandcastle! First, fill up your mold with sand! You can use the shovel here. The mold gives the sand its shape!\"\",\"\"identifier\"\":\"\"Dot_LetsSandcastle,Dot_FillMold,Dot_MoldShape\"\",\"\"media_type\"\":\"\"audio\"\",\"\"total_duration\"\":6758,\"\"event_count\"\":2,\"\"game_time\"\":53,\"\"event_code\"\":3010}\",0001e90f,2,3010,53,Sandcastle Builder (Activity),Activity,MAGMAPEAK\n",
      "\n"
     ]
    }
   ],
   "source": [
    "head_file(\"train.csv\")"
   ]
  },
  {
   "cell_type": "code",
   "execution_count": 5,
   "metadata": {
    "hidden": true
   },
   "outputs": [
    {
     "name": "stdout",
     "output_type": "stream",
     "text": [
      "game_session,installation_id,title,num_correct,num_incorrect,accuracy,accuracy_group\n",
      "\n",
      "6bdf9623adc94d89,0006a69f,Mushroom Sorter (Assessment),1,0,1,3\n",
      "\n",
      "77b8ee947eb84b4e,0006a69f,Bird Measurer (Assessment),0,11,0,0\n",
      "\n",
      "901acc108f55a5a1,0006a69f,Mushroom Sorter (Assessment),1,0,1,3\n",
      "\n",
      "9501794defd84e4d,0006a69f,Mushroom Sorter (Assessment),1,1,0.5,2\n",
      "\n"
     ]
    }
   ],
   "source": [
    "head_file(\"train_labels.csv\")"
   ]
  },
  {
   "cell_type": "markdown",
   "metadata": {
    "heading_collapsed": true
   },
   "source": [
    "## (Skip when re-run) Reading train and test sets"
   ]
  },
  {
   "cell_type": "markdown",
   "metadata": {
    "hidden": true
   },
   "source": [
    "The labels and main set of independent variables are read in as \"right\" and \"left\" respectively."
   ]
  },
  {
   "cell_type": "code",
   "execution_count": 4,
   "metadata": {
    "hidden": true,
    "scrolled": true
   },
   "outputs": [
    {
     "name": "stdout",
     "output_type": "stream",
     "text": [
      "Wall time: 43.3 s\n",
      "Wall time: 156 ms\n",
      "Wall time: 4.86 s\n"
     ]
    }
   ],
   "source": [
    "%time left = pd.read_csv(\"train.csv\")\n",
    "%time right = pd.read_csv(\"train_labels.csv\")\n",
    "%time test = pd.read_csv(\"test.csv\")"
   ]
  },
  {
   "cell_type": "code",
   "execution_count": 8,
   "metadata": {
    "hidden": true
   },
   "outputs": [
    {
     "data": {
      "text/plain": [
       "event_id                384\n",
       "game_session         303319\n",
       "timestamp          10777308\n",
       "event_data         10893749\n",
       "installation_id       17000\n",
       "event_count            3368\n",
       "event_code               42\n",
       "game_time            834048\n",
       "title                    44\n",
       "type                      4\n",
       "world                     4\n",
       "dtype: int64"
      ]
     },
     "execution_count": 8,
     "metadata": {},
     "output_type": "execute_result"
    }
   ],
   "source": [
    "left.nunique()"
   ]
  },
  {
   "cell_type": "code",
   "execution_count": 5,
   "metadata": {
    "hidden": true
   },
   "outputs": [
    {
     "data": {
      "text/plain": [
       "game_session       17690\n",
       "installation_id     3614\n",
       "title                  5\n",
       "num_correct            2\n",
       "num_incorrect         46\n",
       "accuracy              30\n",
       "accuracy_group         4\n",
       "dtype: int64"
      ]
     },
     "execution_count": 5,
     "metadata": {},
     "output_type": "execute_result"
    }
   ],
   "source": [
    "right.nunique()"
   ]
  },
  {
   "cell_type": "code",
   "execution_count": 6,
   "metadata": {
    "hidden": true,
    "scrolled": false
   },
   "outputs": [
    {
     "name": "stdout",
     "output_type": "stream",
     "text": [
      "(11341042, 11) (17690, 7) (1156414, 11)\n"
     ]
    }
   ],
   "source": [
    "print(left.shape, right.shape, test.shape)"
   ]
  },
  {
   "cell_type": "markdown",
   "metadata": {
    "hidden": true
   },
   "source": [
    "Merge the independent variables with the dependent"
   ]
  },
  {
   "cell_type": "code",
   "execution_count": 10,
   "metadata": {
    "hidden": true
   },
   "outputs": [
    {
     "name": "stdout",
     "output_type": "stream",
     "text": [
      "Wall time: 26 s\n"
     ]
    }
   ],
   "source": [
    "%time train = pd.merge(left, right, on=[\"installation_id\", \"game_session\"])\n",
    "# inner is same as right merge for this case I think"
   ]
  },
  {
   "cell_type": "code",
   "execution_count": 11,
   "metadata": {
    "hidden": true
   },
   "outputs": [
    {
     "data": {
      "text/plain": [
       "(865447, 16)"
      ]
     },
     "execution_count": 11,
     "metadata": {},
     "output_type": "execute_result"
    }
   ],
   "source": [
    "train.shape"
   ]
  },
  {
   "cell_type": "code",
   "execution_count": 12,
   "metadata": {
    "hidden": true
   },
   "outputs": [
    {
     "data": {
      "text/plain": [
       "False"
      ]
     },
     "execution_count": 12,
     "metadata": {},
     "output_type": "execute_result"
    }
   ],
   "source": [
    "train.accuracy_group.isnull().any()"
   ]
  },
  {
   "cell_type": "markdown",
   "metadata": {
    "hidden": true
   },
   "source": [
    "Save temporary dataframes"
   ]
  },
  {
   "cell_type": "code",
   "execution_count": 13,
   "metadata": {
    "hidden": true
   },
   "outputs": [],
   "source": [
    "os.makedirs(\"tmp\", exist_ok = True)\n",
    "train.to_feather(\"tmp/trn\")\n",
    "test.to_feather(\"tmp/tes\")"
   ]
  },
  {
   "cell_type": "markdown",
   "metadata": {
    "heading_collapsed": true
   },
   "source": [
    "## (Skip when re-run) Initial Processing"
   ]
  },
  {
   "cell_type": "markdown",
   "metadata": {
    "hidden": true
   },
   "source": [
    "In this section, I try to drop columns that might potentially cause errors, especially those not meant for prediction. "
   ]
  },
  {
   "cell_type": "code",
   "execution_count": 14,
   "metadata": {
    "hidden": true
   },
   "outputs": [],
   "source": [
    "train = pd.read_feather(\"tmp/trn\")\n",
    "test = pd.read_feather(\"tmp/tes\")"
   ]
  },
  {
   "cell_type": "markdown",
   "metadata": {
    "hidden": true
   },
   "source": [
    "Filter the training data columns which are not included in Test Set"
   ]
  },
  {
   "cell_type": "code",
   "execution_count": 15,
   "metadata": {
    "hidden": true,
    "scrolled": true
   },
   "outputs": [
    {
     "data": {
      "text/plain": [
       "(865447, 16)"
      ]
     },
     "execution_count": 15,
     "metadata": {},
     "output_type": "execute_result"
    }
   ],
   "source": [
    "test.columns"
   ]
  },
  {
   "cell_type": "code",
   "execution_count": 20,
   "metadata": {
    "hidden": true
   },
   "outputs": [
    {
     "data": {
      "text/plain": [
       "Index(['event_id', 'game_session', 'timestamp', 'event_data',\n",
       "       'installation_id', 'event_count', 'event_code', 'game_time', 'title_x',\n",
       "       'type', 'world', 'title_y', 'num_correct', 'num_incorrect', 'accuracy',\n",
       "       'accuracy_group'],\n",
       "      dtype='object')"
      ]
     },
     "execution_count": 20,
     "metadata": {},
     "output_type": "execute_result"
    }
   ],
   "source": [
    "train.columns"
   ]
  },
  {
   "cell_type": "code",
   "execution_count": 23,
   "metadata": {
    "hidden": true,
    "scrolled": true
   },
   "outputs": [
    {
     "data": {
      "text/plain": [
       "0         Mushroom Sorter (Assessment)\n",
       "1         Mushroom Sorter (Assessment)\n",
       "2         Mushroom Sorter (Assessment)\n",
       "3         Mushroom Sorter (Assessment)\n",
       "4         Mushroom Sorter (Assessment)\n",
       "                      ...             \n",
       "865442    Cauldron Filler (Assessment)\n",
       "865443    Cauldron Filler (Assessment)\n",
       "865444    Cauldron Filler (Assessment)\n",
       "865445    Cauldron Filler (Assessment)\n",
       "865446    Cauldron Filler (Assessment)\n",
       "Name: title_y, Length: 865447, dtype: object"
      ]
     },
     "execution_count": 23,
     "metadata": {},
     "output_type": "execute_result"
    }
   ],
   "source": [
    "train.title_x\n",
    "# title_x and title_y are the same"
   ]
  },
  {
   "cell_type": "code",
   "execution_count": 24,
   "metadata": {
    "hidden": true
   },
   "outputs": [],
   "source": [
    "train.drop([\"title_y\", \"num_correct\", \"num_incorrect\", \"accuracy\"], axis=1, inplace=True)"
   ]
  },
  {
   "cell_type": "code",
   "execution_count": 26,
   "metadata": {
    "hidden": true
   },
   "outputs": [],
   "source": [
    "train.rename(columns={\"title_x\":\"title\"}, inplace=True)"
   ]
  },
  {
   "cell_type": "code",
   "execution_count": 27,
   "metadata": {
    "hidden": true
   },
   "outputs": [
    {
     "data": {
      "text/plain": [
       "Index(['event_id', 'game_session', 'timestamp', 'event_data',\n",
       "       'installation_id', 'event_count', 'event_code', 'game_time', 'title',\n",
       "       'type', 'world', 'accuracy_group'],\n",
       "      dtype='object')"
      ]
     },
     "execution_count": 27,
     "metadata": {},
     "output_type": "execute_result"
    }
   ],
   "source": [
    "train.columns"
   ]
  },
  {
   "cell_type": "code",
   "execution_count": 28,
   "metadata": {
    "hidden": true
   },
   "outputs": [],
   "source": [
    "train.to_feather(\"tmp/trn2\")"
   ]
  },
  {
   "cell_type": "markdown",
   "metadata": {
    "heading_collapsed": true
   },
   "source": [
    "## Processing"
   ]
  },
  {
   "cell_type": "markdown",
   "metadata": {
    "hidden": true
   },
   "source": [
    "Reload the saved model"
   ]
  },
  {
   "cell_type": "code",
   "execution_count": 3,
   "metadata": {
    "ExecuteTime": {
     "end_time": "2020-07-17T01:11:51.356113Z",
     "start_time": "2020-07-17T01:11:49.768919Z"
    },
    "hidden": true
   },
   "outputs": [],
   "source": [
    "train = pd.read_feather(\"tmp/trn2\")"
   ]
  },
  {
   "cell_type": "markdown",
   "metadata": {
    "heading_collapsed": true,
    "hidden": true
   },
   "source": [
    "##### Dataset information"
   ]
  },
  {
   "cell_type": "code",
   "execution_count": 7,
   "metadata": {
    "ExecuteTime": {
     "end_time": "2020-06-20T16:12:34.085883Z",
     "start_time": "2020-06-20T16:12:33.807591Z"
    },
    "collapsed": true,
    "hidden": true
   },
   "outputs": [
    {
     "name": "stdout",
     "output_type": "stream",
     "text": [
      "<class 'pandas.core.frame.DataFrame'>\n",
      "RangeIndex: 865447 entries, 0 to 865446\n",
      "Data columns (total 12 columns):\n",
      " #   Column           Non-Null Count   Dtype \n",
      "---  ------           --------------   ----- \n",
      " 0   event_id         865447 non-null  object\n",
      " 1   game_session     865447 non-null  object\n",
      " 2   timestamp        865447 non-null  object\n",
      " 3   event_data       865447 non-null  object\n",
      " 4   installation_id  865447 non-null  object\n",
      " 5   event_count      865447 non-null  int64 \n",
      " 6   event_code       865447 non-null  int64 \n",
      " 7   game_time        865447 non-null  int64 \n",
      " 8   title            865447 non-null  object\n",
      " 9   type             865447 non-null  object\n",
      " 10  world            865447 non-null  object\n",
      " 11  accuracy_group   865447 non-null  int64 \n",
      "dtypes: int64(4), object(8)\n",
      "memory usage: 79.2+ MB\n"
     ]
    }
   ],
   "source": [
    "train.info()"
   ]
  },
  {
   "cell_type": "code",
   "execution_count": 6,
   "metadata": {
    "collapsed": true,
    "hidden": true
   },
   "outputs": [
    {
     "data": {
      "text/html": [
       "<div>\n",
       "<style scoped>\n",
       "    .dataframe tbody tr th:only-of-type {\n",
       "        vertical-align: middle;\n",
       "    }\n",
       "\n",
       "    .dataframe tbody tr th {\n",
       "        vertical-align: top;\n",
       "    }\n",
       "\n",
       "    .dataframe thead th {\n",
       "        text-align: right;\n",
       "    }\n",
       "</style>\n",
       "<table border=\"1\" class=\"dataframe\">\n",
       "  <thead>\n",
       "    <tr style=\"text-align: right;\">\n",
       "      <th></th>\n",
       "      <th>event_count</th>\n",
       "      <th>event_code</th>\n",
       "      <th>game_time</th>\n",
       "      <th>accuracy_group</th>\n",
       "    </tr>\n",
       "  </thead>\n",
       "  <tbody>\n",
       "    <tr>\n",
       "      <th>count</th>\n",
       "      <td>865447.000000</td>\n",
       "      <td>865447.000000</td>\n",
       "      <td>8.654470e+05</td>\n",
       "      <td>865447.000000</td>\n",
       "    </tr>\n",
       "    <tr>\n",
       "      <th>mean</th>\n",
       "      <td>37.914465</td>\n",
       "      <td>3593.477654</td>\n",
       "      <td>6.218941e+04</td>\n",
       "      <td>1.533335</td>\n",
       "    </tr>\n",
       "    <tr>\n",
       "      <th>std</th>\n",
       "      <td>50.163982</td>\n",
       "      <td>655.223229</td>\n",
       "      <td>9.601085e+05</td>\n",
       "      <td>1.240931</td>\n",
       "    </tr>\n",
       "    <tr>\n",
       "      <th>min</th>\n",
       "      <td>1.000000</td>\n",
       "      <td>2000.000000</td>\n",
       "      <td>0.000000e+00</td>\n",
       "      <td>0.000000</td>\n",
       "    </tr>\n",
       "    <tr>\n",
       "      <th>25%</th>\n",
       "      <td>13.000000</td>\n",
       "      <td>3110.000000</td>\n",
       "      <td>1.008300e+04</td>\n",
       "      <td>0.000000</td>\n",
       "    </tr>\n",
       "    <tr>\n",
       "      <th>50%</th>\n",
       "      <td>26.000000</td>\n",
       "      <td>4025.000000</td>\n",
       "      <td>2.284900e+04</td>\n",
       "      <td>1.000000</td>\n",
       "    </tr>\n",
       "    <tr>\n",
       "      <th>75%</th>\n",
       "      <td>46.000000</td>\n",
       "      <td>4035.000000</td>\n",
       "      <td>4.479300e+04</td>\n",
       "      <td>3.000000</td>\n",
       "    </tr>\n",
       "    <tr>\n",
       "      <th>max</th>\n",
       "      <td>1274.000000</td>\n",
       "      <td>4110.000000</td>\n",
       "      <td>3.069102e+08</td>\n",
       "      <td>3.000000</td>\n",
       "    </tr>\n",
       "  </tbody>\n",
       "</table>\n",
       "</div>"
      ],
      "text/plain": [
       "         event_count     event_code     game_time  accuracy_group\n",
       "count  865447.000000  865447.000000  8.654470e+05   865447.000000\n",
       "mean       37.914465    3593.477654  6.218941e+04        1.533335\n",
       "std        50.163982     655.223229  9.601085e+05        1.240931\n",
       "min         1.000000    2000.000000  0.000000e+00        0.000000\n",
       "25%        13.000000    3110.000000  1.008300e+04        0.000000\n",
       "50%        26.000000    4025.000000  2.284900e+04        1.000000\n",
       "75%        46.000000    4035.000000  4.479300e+04        3.000000\n",
       "max      1274.000000    4110.000000  3.069102e+08        3.000000"
      ]
     },
     "execution_count": 6,
     "metadata": {},
     "output_type": "execute_result"
    }
   ],
   "source": [
    "train.describe()"
   ]
  },
  {
   "cell_type": "code",
   "execution_count": 8,
   "metadata": {
    "collapsed": true,
    "hidden": true
   },
   "outputs": [
    {
     "data": {
      "text/plain": [
       "22"
      ]
     },
     "execution_count": 8,
     "metadata": {},
     "output_type": "execute_result"
    }
   ],
   "source": [
    "train.event_code.nunique()"
   ]
  },
  {
   "cell_type": "markdown",
   "metadata": {
    "heading_collapsed": true,
    "hidden": true
   },
   "source": [
    "### (1) Split JSON column"
   ]
  },
  {
   "cell_type": "markdown",
   "metadata": {
    "heading_collapsed": true,
    "hidden": true
   },
   "source": [
    "##### Split event_data"
   ]
  },
  {
   "cell_type": "markdown",
   "metadata": {
    "hidden": true
   },
   "source": [
    "\"event_data\" column is in json format containing extra information  \n",
    "This code separates each key-value pair into different columns"
   ]
  },
  {
   "cell_type": "code",
   "execution_count": 6,
   "metadata": {
    "ExecuteTime": {
     "end_time": "2020-07-17T01:15:19.019527Z",
     "start_time": "2020-07-17T01:14:40.020128Z"
    },
    "hidden": true,
    "scrolled": false
   },
   "outputs": [],
   "source": [
    "tmp0 = pd.json_normalize(train.event_data.apply(json.loads))"
   ]
  },
  {
   "cell_type": "markdown",
   "metadata": {
    "hidden": true
   },
   "source": [
    "Drop duplicated columns"
   ]
  },
  {
   "cell_type": "code",
   "execution_count": 7,
   "metadata": {
    "ExecuteTime": {
     "end_time": "2020-07-17T01:15:19.481434Z",
     "start_time": "2020-07-17T01:15:19.019527Z"
    },
    "hidden": true
   },
   "outputs": [],
   "source": [
    "tmp0.drop([\"event_code\", \"event_count\", \"game_time\"],axis=1, inplace=True)"
   ]
  },
  {
   "cell_type": "markdown",
   "metadata": {
    "hidden": true
   },
   "source": [
    "Merge the newly created columns and the original dataset"
   ]
  },
  {
   "cell_type": "code",
   "execution_count": 8,
   "metadata": {
    "ExecuteTime": {
     "end_time": "2020-07-17T01:15:20.110397Z",
     "start_time": "2020-07-17T01:15:19.482395Z"
    },
    "hidden": true
   },
   "outputs": [],
   "source": [
    "tmp1 = pd.concat([tmp0, train], axis=1)"
   ]
  },
  {
   "cell_type": "code",
   "execution_count": 9,
   "metadata": {
    "ExecuteTime": {
     "end_time": "2020-07-17T01:15:22.095731Z",
     "start_time": "2020-07-17T01:15:20.110397Z"
    },
    "hidden": true
   },
   "outputs": [],
   "source": [
    "tmp1.drop(\"event_data\", axis=1, inplace=True)"
   ]
  },
  {
   "cell_type": "markdown",
   "metadata": {
    "heading_collapsed": true,
    "hidden": true
   },
   "source": [
    "##### (Skip) Alternative: Drop the column"
   ]
  },
  {
   "cell_type": "markdown",
   "metadata": {
    "hidden": true
   },
   "source": [
    "Alternative approach that is not preferred"
   ]
  },
  {
   "cell_type": "code",
   "execution_count": 7,
   "metadata": {
    "ExecuteTime": {
     "end_time": "2020-06-21T01:40:17.949719Z",
     "start_time": "2020-06-21T01:40:17.769038Z"
    },
    "hidden": true
   },
   "outputs": [],
   "source": [
    "train.drop(\"event_data\", axis=1, inplace=True)"
   ]
  },
  {
   "cell_type": "markdown",
   "metadata": {
    "heading_collapsed": true,
    "hidden": true
   },
   "source": [
    "##### (Skip) ERROR with splitting event_data"
   ]
  },
  {
   "cell_type": "markdown",
   "metadata": {
    "hidden": true
   },
   "source": [
    "This section is meant for debugging"
   ]
  },
  {
   "cell_type": "code",
   "execution_count": 139,
   "metadata": {
    "hidden": true
   },
   "outputs": [],
   "source": [
    "train_cat = train.iloc[:,[0,4,5,6,14,15,16,17,20,23,24,25,27,28,30,31,34,36,37,39,40,41,42,43,45]].copy()"
   ]
  },
  {
   "cell_type": "code",
   "execution_count": 140,
   "metadata": {
    "hidden": true
   },
   "outputs": [
    {
     "name": "stdout",
     "output_type": "stream",
     "text": [
      "<class 'pandas.core.frame.DataFrame'>\n",
      "RangeIndex: 865447 entries, 0 to 865446\n",
      "Data columns (total 25 columns):\n",
      " #   Column          Non-Null Count   Dtype \n",
      "---  ------          --------------   ----- \n",
      " 0   version         17690 non-null   object\n",
      " 1   description     239152 non-null  object\n",
      " 2   identifier      239152 non-null  object\n",
      " 3   media_type      239152 non-null  object\n",
      " 4   stumps          46121 non-null   object\n",
      " 5   source          309519 non-null  object\n",
      " 6   destination     77831 non-null   object\n",
      " 7   correct         133772 non-null  object\n",
      " 8   exit_type       2925 non-null    object\n",
      " 9   caterpillar     67293 non-null   object\n",
      " 10  hats            52204 non-null   object\n",
      " 11  caterpillars    78662 non-null   object\n",
      " 12  hats_placed     8363 non-null    object\n",
      " 13  buckets         58549 non-null   object\n",
      " 14  mode            14430 non-null   object\n",
      " 15  prompt          20120 non-null   object\n",
      " 16  buckets_placed  57081 non-null   object\n",
      " 17  crystals        85339 non-null   object\n",
      " 18  crystal_id      81079 non-null   object\n",
      " 19  side            30173 non-null   object\n",
      " 20  left            134299 non-null  object\n",
      " 21  right           134299 non-null  object\n",
      " 22  pillars         97336 non-null   object\n",
      " 23  chests          241 non-null     object\n",
      " 24  object          128 non-null     object\n",
      "dtypes: object(25)\n",
      "memory usage: 165.1+ MB\n"
     ]
    }
   ],
   "source": [
    "train_cat.info()"
   ]
  },
  {
   "cell_type": "code",
   "execution_count": 142,
   "metadata": {
    "hidden": true
   },
   "outputs": [],
   "source": [
    "train_num = train.iloc[:,[1,2,3,7,8,9,10,11,12,13,18,19,21,22,26,29,32,33,35,38,44]].copy()"
   ]
  },
  {
   "cell_type": "code",
   "execution_count": 143,
   "metadata": {
    "hidden": true
   },
   "outputs": [
    {
     "name": "stdout",
     "output_type": "stream",
     "text": [
      "<class 'pandas.core.frame.DataFrame'>\n",
      "RangeIndex: 865447 entries, 0 to 865446\n",
      "Data columns (total 21 columns):\n",
      " #   Column                    Non-Null Count   Dtype  \n",
      "---  ------                    --------------   -----  \n",
      " 0   event_count               865447 non-null  int64  \n",
      " 1   game_time                 865447 non-null  int64  \n",
      " 2   event_code                865447 non-null  int64  \n",
      " 3   total_duration            120390 non-null  float64\n",
      " 4   duration                  314966 non-null  float64\n",
      " 5   height                    78305 non-null   float64\n",
      " 6   coordinates.x             504202 non-null  float64\n",
      " 7   coordinates.y             504202 non-null  float64\n",
      " 8   coordinates.stage_width   504202 non-null  float64\n",
      " 9   coordinates.stage_height  504202 non-null  float64\n",
      " 10  misses                    17419 non-null   float64\n",
      " 11  session_duration          11686 non-null   float64\n",
      " 12  stage_number              7860 non-null    float64\n",
      " 13  hat                       51344 non-null   float64\n",
      " 14  bird_height               27244 non-null   float64\n",
      " 15  target_bucket             13528 non-null   float64\n",
      " 16  round_number              14090 non-null   float64\n",
      " 17  bucket                    51820 non-null   float64\n",
      " 18  cauldron                  16719 non-null   float64\n",
      " 19  weight                    172449 non-null  float64\n",
      " 20  dwell_time                128 non-null     float64\n",
      "dtypes: float64(18), int64(3)\n",
      "memory usage: 138.7 MB\n"
     ]
    }
   ],
   "source": [
    "train_num.info()"
   ]
  },
  {
   "cell_type": "code",
   "execution_count": 168,
   "metadata": {
    "hidden": true
   },
   "outputs": [
    {
     "data": {
      "text/plain": [
       "52977           NaN\n",
       "189678          NaN\n",
       "296823          NaN\n",
       "404589          NaN\n",
       "412253          NaN\n",
       "532516          NaN\n",
       "567189          NaN\n",
       "604304          NaN\n",
       "715121    [4, 5, 3]\n",
       "825388          NaN\n",
       "Name: stumps, dtype: object"
      ]
     },
     "execution_count": 168,
     "metadata": {},
     "output_type": "execute_result"
    }
   ],
   "source": [
    "tmp = get_sample(train_cat, 10)\n",
    "tmp.stumps"
   ]
  },
  {
   "cell_type": "code",
   "execution_count": 151,
   "metadata": {
    "collapsed": true,
    "hidden": true
   },
   "outputs": [
    {
     "ename": "TypeError",
     "evalue": "unhashable type: 'list'",
     "output_type": "error",
     "traceback": [
      "\u001b[1;31m---------------------------------------------------------------------------\u001b[0m",
      "\u001b[1;31mTypeError\u001b[0m                                 Traceback (most recent call last)",
      "\u001b[1;32m~\\anaconda3\\envs\\fastai-cpu\\lib\\site-packages\\pandas\\core\\arrays\\categorical.py\u001b[0m in \u001b[0;36m__init__\u001b[1;34m(self, values, categories, ordered, dtype, fastpath)\u001b[0m\n\u001b[0;32m    354\u001b[0m             \u001b[1;32mtry\u001b[0m\u001b[1;33m:\u001b[0m\u001b[1;33m\u001b[0m\u001b[1;33m\u001b[0m\u001b[0m\n\u001b[1;32m--> 355\u001b[1;33m                 \u001b[0mcodes\u001b[0m\u001b[1;33m,\u001b[0m \u001b[0mcategories\u001b[0m \u001b[1;33m=\u001b[0m \u001b[0mfactorize\u001b[0m\u001b[1;33m(\u001b[0m\u001b[0mvalues\u001b[0m\u001b[1;33m,\u001b[0m \u001b[0msort\u001b[0m\u001b[1;33m=\u001b[0m\u001b[1;32mTrue\u001b[0m\u001b[1;33m)\u001b[0m\u001b[1;33m\u001b[0m\u001b[1;33m\u001b[0m\u001b[0m\n\u001b[0m\u001b[0;32m    356\u001b[0m             \u001b[1;32mexcept\u001b[0m \u001b[0mTypeError\u001b[0m\u001b[1;33m:\u001b[0m\u001b[1;33m\u001b[0m\u001b[1;33m\u001b[0m\u001b[0m\n",
      "\u001b[1;32m~\\anaconda3\\envs\\fastai-cpu\\lib\\site-packages\\pandas\\core\\algorithms.py\u001b[0m in \u001b[0;36mfactorize\u001b[1;34m(values, sort, na_sentinel, size_hint)\u001b[0m\n\u001b[0;32m    635\u001b[0m         codes, uniques = _factorize_array(\n\u001b[1;32m--> 636\u001b[1;33m             \u001b[0mvalues\u001b[0m\u001b[1;33m,\u001b[0m \u001b[0mna_sentinel\u001b[0m\u001b[1;33m=\u001b[0m\u001b[0mna_sentinel\u001b[0m\u001b[1;33m,\u001b[0m \u001b[0msize_hint\u001b[0m\u001b[1;33m=\u001b[0m\u001b[0msize_hint\u001b[0m\u001b[1;33m,\u001b[0m \u001b[0mna_value\u001b[0m\u001b[1;33m=\u001b[0m\u001b[0mna_value\u001b[0m\u001b[1;33m\u001b[0m\u001b[1;33m\u001b[0m\u001b[0m\n\u001b[0m\u001b[0;32m    637\u001b[0m         )\n",
      "\u001b[1;32m~\\anaconda3\\envs\\fastai-cpu\\lib\\site-packages\\pandas\\core\\algorithms.py\u001b[0m in \u001b[0;36m_factorize_array\u001b[1;34m(values, na_sentinel, size_hint, na_value)\u001b[0m\n\u001b[0;32m    483\u001b[0m     \u001b[0mtable\u001b[0m \u001b[1;33m=\u001b[0m \u001b[0mhash_klass\u001b[0m\u001b[1;33m(\u001b[0m\u001b[0msize_hint\u001b[0m \u001b[1;32mor\u001b[0m \u001b[0mlen\u001b[0m\u001b[1;33m(\u001b[0m\u001b[0mvalues\u001b[0m\u001b[1;33m)\u001b[0m\u001b[1;33m)\u001b[0m\u001b[1;33m\u001b[0m\u001b[1;33m\u001b[0m\u001b[0m\n\u001b[1;32m--> 484\u001b[1;33m     \u001b[0muniques\u001b[0m\u001b[1;33m,\u001b[0m \u001b[0mcodes\u001b[0m \u001b[1;33m=\u001b[0m \u001b[0mtable\u001b[0m\u001b[1;33m.\u001b[0m\u001b[0mfactorize\u001b[0m\u001b[1;33m(\u001b[0m\u001b[0mvalues\u001b[0m\u001b[1;33m,\u001b[0m \u001b[0mna_sentinel\u001b[0m\u001b[1;33m=\u001b[0m\u001b[0mna_sentinel\u001b[0m\u001b[1;33m,\u001b[0m \u001b[0mna_value\u001b[0m\u001b[1;33m=\u001b[0m\u001b[0mna_value\u001b[0m\u001b[1;33m)\u001b[0m\u001b[1;33m\u001b[0m\u001b[1;33m\u001b[0m\u001b[0m\n\u001b[0m\u001b[0;32m    485\u001b[0m \u001b[1;33m\u001b[0m\u001b[0m\n",
      "\u001b[1;32mpandas\\_libs\\hashtable_class_helper.pxi\u001b[0m in \u001b[0;36mpandas._libs.hashtable.PyObjectHashTable.factorize\u001b[1;34m()\u001b[0m\n",
      "\u001b[1;32mpandas\\_libs\\hashtable_class_helper.pxi\u001b[0m in \u001b[0;36mpandas._libs.hashtable.PyObjectHashTable._unique\u001b[1;34m()\u001b[0m\n",
      "\u001b[1;31mTypeError\u001b[0m: unhashable type: 'list'",
      "\nDuring handling of the above exception, another exception occurred:\n",
      "\u001b[1;31mTypeError\u001b[0m                                 Traceback (most recent call last)",
      "\u001b[1;32m<ipython-input-151-8524b5ff09e2>\u001b[0m in \u001b[0;36m<module>\u001b[1;34m\u001b[0m\n\u001b[1;32m----> 1\u001b[1;33m \u001b[0mtrain_cat\u001b[0m\u001b[1;33m.\u001b[0m\u001b[0mastype\u001b[0m\u001b[1;33m(\u001b[0m\u001b[1;34m\"category\"\u001b[0m\u001b[1;33m,\u001b[0m \u001b[0mcopy\u001b[0m\u001b[1;33m=\u001b[0m\u001b[1;32mFalse\u001b[0m\u001b[1;33m)\u001b[0m\u001b[1;33m.\u001b[0m\u001b[0mdtypes\u001b[0m\u001b[1;33m\u001b[0m\u001b[1;33m\u001b[0m\u001b[0m\n\u001b[0m",
      "\u001b[1;32m~\\anaconda3\\envs\\fastai-cpu\\lib\\site-packages\\pandas\\core\\generic.py\u001b[0m in \u001b[0;36mastype\u001b[1;34m(self, dtype, copy, errors)\u001b[0m\n\u001b[0;32m   5691\u001b[0m             results = [\n\u001b[0;32m   5692\u001b[0m                 \u001b[0mself\u001b[0m\u001b[1;33m.\u001b[0m\u001b[0miloc\u001b[0m\u001b[1;33m[\u001b[0m\u001b[1;33m:\u001b[0m\u001b[1;33m,\u001b[0m \u001b[0mi\u001b[0m\u001b[1;33m]\u001b[0m\u001b[1;33m.\u001b[0m\u001b[0mastype\u001b[0m\u001b[1;33m(\u001b[0m\u001b[0mdtype\u001b[0m\u001b[1;33m,\u001b[0m \u001b[0mcopy\u001b[0m\u001b[1;33m=\u001b[0m\u001b[0mcopy\u001b[0m\u001b[1;33m)\u001b[0m\u001b[1;33m\u001b[0m\u001b[1;33m\u001b[0m\u001b[0m\n\u001b[1;32m-> 5693\u001b[1;33m                 \u001b[1;32mfor\u001b[0m \u001b[0mi\u001b[0m \u001b[1;32min\u001b[0m \u001b[0mrange\u001b[0m\u001b[1;33m(\u001b[0m\u001b[0mlen\u001b[0m\u001b[1;33m(\u001b[0m\u001b[0mself\u001b[0m\u001b[1;33m.\u001b[0m\u001b[0mcolumns\u001b[0m\u001b[1;33m)\u001b[0m\u001b[1;33m)\u001b[0m\u001b[1;33m\u001b[0m\u001b[1;33m\u001b[0m\u001b[0m\n\u001b[0m\u001b[0;32m   5694\u001b[0m             ]\n\u001b[0;32m   5695\u001b[0m \u001b[1;33m\u001b[0m\u001b[0m\n",
      "\u001b[1;32m~\\anaconda3\\envs\\fastai-cpu\\lib\\site-packages\\pandas\\core\\generic.py\u001b[0m in \u001b[0;36m<listcomp>\u001b[1;34m(.0)\u001b[0m\n\u001b[0;32m   5691\u001b[0m             results = [\n\u001b[0;32m   5692\u001b[0m                 \u001b[0mself\u001b[0m\u001b[1;33m.\u001b[0m\u001b[0miloc\u001b[0m\u001b[1;33m[\u001b[0m\u001b[1;33m:\u001b[0m\u001b[1;33m,\u001b[0m \u001b[0mi\u001b[0m\u001b[1;33m]\u001b[0m\u001b[1;33m.\u001b[0m\u001b[0mastype\u001b[0m\u001b[1;33m(\u001b[0m\u001b[0mdtype\u001b[0m\u001b[1;33m,\u001b[0m \u001b[0mcopy\u001b[0m\u001b[1;33m=\u001b[0m\u001b[0mcopy\u001b[0m\u001b[1;33m)\u001b[0m\u001b[1;33m\u001b[0m\u001b[1;33m\u001b[0m\u001b[0m\n\u001b[1;32m-> 5693\u001b[1;33m                 \u001b[1;32mfor\u001b[0m \u001b[0mi\u001b[0m \u001b[1;32min\u001b[0m \u001b[0mrange\u001b[0m\u001b[1;33m(\u001b[0m\u001b[0mlen\u001b[0m\u001b[1;33m(\u001b[0m\u001b[0mself\u001b[0m\u001b[1;33m.\u001b[0m\u001b[0mcolumns\u001b[0m\u001b[1;33m)\u001b[0m\u001b[1;33m)\u001b[0m\u001b[1;33m\u001b[0m\u001b[1;33m\u001b[0m\u001b[0m\n\u001b[0m\u001b[0;32m   5694\u001b[0m             ]\n\u001b[0;32m   5695\u001b[0m \u001b[1;33m\u001b[0m\u001b[0m\n",
      "\u001b[1;32m~\\anaconda3\\envs\\fastai-cpu\\lib\\site-packages\\pandas\\core\\generic.py\u001b[0m in \u001b[0;36mastype\u001b[1;34m(self, dtype, copy, errors)\u001b[0m\n\u001b[0;32m   5696\u001b[0m         \u001b[1;32melse\u001b[0m\u001b[1;33m:\u001b[0m\u001b[1;33m\u001b[0m\u001b[1;33m\u001b[0m\u001b[0m\n\u001b[0;32m   5697\u001b[0m             \u001b[1;31m# else, only a single dtype is given\u001b[0m\u001b[1;33m\u001b[0m\u001b[1;33m\u001b[0m\u001b[1;33m\u001b[0m\u001b[0m\n\u001b[1;32m-> 5698\u001b[1;33m             \u001b[0mnew_data\u001b[0m \u001b[1;33m=\u001b[0m \u001b[0mself\u001b[0m\u001b[1;33m.\u001b[0m\u001b[0m_data\u001b[0m\u001b[1;33m.\u001b[0m\u001b[0mastype\u001b[0m\u001b[1;33m(\u001b[0m\u001b[0mdtype\u001b[0m\u001b[1;33m=\u001b[0m\u001b[0mdtype\u001b[0m\u001b[1;33m,\u001b[0m \u001b[0mcopy\u001b[0m\u001b[1;33m=\u001b[0m\u001b[0mcopy\u001b[0m\u001b[1;33m,\u001b[0m \u001b[0merrors\u001b[0m\u001b[1;33m=\u001b[0m\u001b[0merrors\u001b[0m\u001b[1;33m)\u001b[0m\u001b[1;33m\u001b[0m\u001b[1;33m\u001b[0m\u001b[0m\n\u001b[0m\u001b[0;32m   5699\u001b[0m             \u001b[1;32mreturn\u001b[0m \u001b[0mself\u001b[0m\u001b[1;33m.\u001b[0m\u001b[0m_constructor\u001b[0m\u001b[1;33m(\u001b[0m\u001b[0mnew_data\u001b[0m\u001b[1;33m)\u001b[0m\u001b[1;33m.\u001b[0m\u001b[0m__finalize__\u001b[0m\u001b[1;33m(\u001b[0m\u001b[0mself\u001b[0m\u001b[1;33m)\u001b[0m\u001b[1;33m\u001b[0m\u001b[1;33m\u001b[0m\u001b[0m\n\u001b[0;32m   5700\u001b[0m \u001b[1;33m\u001b[0m\u001b[0m\n",
      "\u001b[1;32m~\\anaconda3\\envs\\fastai-cpu\\lib\\site-packages\\pandas\\core\\internals\\managers.py\u001b[0m in \u001b[0;36mastype\u001b[1;34m(self, dtype, copy, errors)\u001b[0m\n\u001b[0;32m    580\u001b[0m \u001b[1;33m\u001b[0m\u001b[0m\n\u001b[0;32m    581\u001b[0m     \u001b[1;32mdef\u001b[0m \u001b[0mastype\u001b[0m\u001b[1;33m(\u001b[0m\u001b[0mself\u001b[0m\u001b[1;33m,\u001b[0m \u001b[0mdtype\u001b[0m\u001b[1;33m,\u001b[0m \u001b[0mcopy\u001b[0m\u001b[1;33m:\u001b[0m \u001b[0mbool\u001b[0m \u001b[1;33m=\u001b[0m \u001b[1;32mFalse\u001b[0m\u001b[1;33m,\u001b[0m \u001b[0merrors\u001b[0m\u001b[1;33m:\u001b[0m \u001b[0mstr\u001b[0m \u001b[1;33m=\u001b[0m \u001b[1;34m\"raise\"\u001b[0m\u001b[1;33m)\u001b[0m\u001b[1;33m:\u001b[0m\u001b[1;33m\u001b[0m\u001b[1;33m\u001b[0m\u001b[0m\n\u001b[1;32m--> 582\u001b[1;33m         \u001b[1;32mreturn\u001b[0m \u001b[0mself\u001b[0m\u001b[1;33m.\u001b[0m\u001b[0mapply\u001b[0m\u001b[1;33m(\u001b[0m\u001b[1;34m\"astype\"\u001b[0m\u001b[1;33m,\u001b[0m \u001b[0mdtype\u001b[0m\u001b[1;33m=\u001b[0m\u001b[0mdtype\u001b[0m\u001b[1;33m,\u001b[0m \u001b[0mcopy\u001b[0m\u001b[1;33m=\u001b[0m\u001b[0mcopy\u001b[0m\u001b[1;33m,\u001b[0m \u001b[0merrors\u001b[0m\u001b[1;33m=\u001b[0m\u001b[0merrors\u001b[0m\u001b[1;33m)\u001b[0m\u001b[1;33m\u001b[0m\u001b[1;33m\u001b[0m\u001b[0m\n\u001b[0m\u001b[0;32m    583\u001b[0m \u001b[1;33m\u001b[0m\u001b[0m\n\u001b[0;32m    584\u001b[0m     \u001b[1;32mdef\u001b[0m \u001b[0mconvert\u001b[0m\u001b[1;33m(\u001b[0m\u001b[0mself\u001b[0m\u001b[1;33m,\u001b[0m \u001b[1;33m**\u001b[0m\u001b[0mkwargs\u001b[0m\u001b[1;33m)\u001b[0m\u001b[1;33m:\u001b[0m\u001b[1;33m\u001b[0m\u001b[1;33m\u001b[0m\u001b[0m\n",
      "\u001b[1;32m~\\anaconda3\\envs\\fastai-cpu\\lib\\site-packages\\pandas\\core\\internals\\managers.py\u001b[0m in \u001b[0;36mapply\u001b[1;34m(self, f, filter, **kwargs)\u001b[0m\n\u001b[0;32m    440\u001b[0m                 \u001b[0mapplied\u001b[0m \u001b[1;33m=\u001b[0m \u001b[0mb\u001b[0m\u001b[1;33m.\u001b[0m\u001b[0mapply\u001b[0m\u001b[1;33m(\u001b[0m\u001b[0mf\u001b[0m\u001b[1;33m,\u001b[0m \u001b[1;33m**\u001b[0m\u001b[0mkwargs\u001b[0m\u001b[1;33m)\u001b[0m\u001b[1;33m\u001b[0m\u001b[1;33m\u001b[0m\u001b[0m\n\u001b[0;32m    441\u001b[0m             \u001b[1;32melse\u001b[0m\u001b[1;33m:\u001b[0m\u001b[1;33m\u001b[0m\u001b[1;33m\u001b[0m\u001b[0m\n\u001b[1;32m--> 442\u001b[1;33m                 \u001b[0mapplied\u001b[0m \u001b[1;33m=\u001b[0m \u001b[0mgetattr\u001b[0m\u001b[1;33m(\u001b[0m\u001b[0mb\u001b[0m\u001b[1;33m,\u001b[0m \u001b[0mf\u001b[0m\u001b[1;33m)\u001b[0m\u001b[1;33m(\u001b[0m\u001b[1;33m**\u001b[0m\u001b[0mkwargs\u001b[0m\u001b[1;33m)\u001b[0m\u001b[1;33m\u001b[0m\u001b[1;33m\u001b[0m\u001b[0m\n\u001b[0m\u001b[0;32m    443\u001b[0m             \u001b[0mresult_blocks\u001b[0m \u001b[1;33m=\u001b[0m \u001b[0m_extend_blocks\u001b[0m\u001b[1;33m(\u001b[0m\u001b[0mapplied\u001b[0m\u001b[1;33m,\u001b[0m \u001b[0mresult_blocks\u001b[0m\u001b[1;33m)\u001b[0m\u001b[1;33m\u001b[0m\u001b[1;33m\u001b[0m\u001b[0m\n\u001b[0;32m    444\u001b[0m \u001b[1;33m\u001b[0m\u001b[0m\n",
      "\u001b[1;32m~\\anaconda3\\envs\\fastai-cpu\\lib\\site-packages\\pandas\\core\\internals\\blocks.py\u001b[0m in \u001b[0;36mastype\u001b[1;34m(self, dtype, copy, errors)\u001b[0m\n\u001b[0;32m    592\u001b[0m                 \u001b[1;32mreturn\u001b[0m \u001b[0mself\u001b[0m\u001b[1;33m.\u001b[0m\u001b[0mmake_block\u001b[0m\u001b[1;33m(\u001b[0m\u001b[0mself\u001b[0m\u001b[1;33m.\u001b[0m\u001b[0mvalues\u001b[0m\u001b[1;33m.\u001b[0m\u001b[0mastype\u001b[0m\u001b[1;33m(\u001b[0m\u001b[0mdtype\u001b[0m\u001b[1;33m,\u001b[0m \u001b[0mcopy\u001b[0m\u001b[1;33m=\u001b[0m\u001b[0mcopy\u001b[0m\u001b[1;33m)\u001b[0m\u001b[1;33m)\u001b[0m\u001b[1;33m\u001b[0m\u001b[1;33m\u001b[0m\u001b[0m\n\u001b[0;32m    593\u001b[0m \u001b[1;33m\u001b[0m\u001b[0m\n\u001b[1;32m--> 594\u001b[1;33m             \u001b[1;32mreturn\u001b[0m \u001b[0mself\u001b[0m\u001b[1;33m.\u001b[0m\u001b[0mmake_block\u001b[0m\u001b[1;33m(\u001b[0m\u001b[0mCategorical\u001b[0m\u001b[1;33m(\u001b[0m\u001b[0mself\u001b[0m\u001b[1;33m.\u001b[0m\u001b[0mvalues\u001b[0m\u001b[1;33m,\u001b[0m \u001b[0mdtype\u001b[0m\u001b[1;33m=\u001b[0m\u001b[0mdtype\u001b[0m\u001b[1;33m)\u001b[0m\u001b[1;33m)\u001b[0m\u001b[1;33m\u001b[0m\u001b[1;33m\u001b[0m\u001b[0m\n\u001b[0m\u001b[0;32m    595\u001b[0m \u001b[1;33m\u001b[0m\u001b[0m\n\u001b[0;32m    596\u001b[0m         \u001b[0mdtype\u001b[0m \u001b[1;33m=\u001b[0m \u001b[0mpandas_dtype\u001b[0m\u001b[1;33m(\u001b[0m\u001b[0mdtype\u001b[0m\u001b[1;33m)\u001b[0m\u001b[1;33m\u001b[0m\u001b[1;33m\u001b[0m\u001b[0m\n",
      "\u001b[1;32m~\\anaconda3\\envs\\fastai-cpu\\lib\\site-packages\\pandas\\core\\arrays\\categorical.py\u001b[0m in \u001b[0;36m__init__\u001b[1;34m(self, values, categories, ordered, dtype, fastpath)\u001b[0m\n\u001b[0;32m    355\u001b[0m                 \u001b[0mcodes\u001b[0m\u001b[1;33m,\u001b[0m \u001b[0mcategories\u001b[0m \u001b[1;33m=\u001b[0m \u001b[0mfactorize\u001b[0m\u001b[1;33m(\u001b[0m\u001b[0mvalues\u001b[0m\u001b[1;33m,\u001b[0m \u001b[0msort\u001b[0m\u001b[1;33m=\u001b[0m\u001b[1;32mTrue\u001b[0m\u001b[1;33m)\u001b[0m\u001b[1;33m\u001b[0m\u001b[1;33m\u001b[0m\u001b[0m\n\u001b[0;32m    356\u001b[0m             \u001b[1;32mexcept\u001b[0m \u001b[0mTypeError\u001b[0m\u001b[1;33m:\u001b[0m\u001b[1;33m\u001b[0m\u001b[1;33m\u001b[0m\u001b[0m\n\u001b[1;32m--> 357\u001b[1;33m                 \u001b[0mcodes\u001b[0m\u001b[1;33m,\u001b[0m \u001b[0mcategories\u001b[0m \u001b[1;33m=\u001b[0m \u001b[0mfactorize\u001b[0m\u001b[1;33m(\u001b[0m\u001b[0mvalues\u001b[0m\u001b[1;33m,\u001b[0m \u001b[0msort\u001b[0m\u001b[1;33m=\u001b[0m\u001b[1;32mFalse\u001b[0m\u001b[1;33m)\u001b[0m\u001b[1;33m\u001b[0m\u001b[1;33m\u001b[0m\u001b[0m\n\u001b[0m\u001b[0;32m    358\u001b[0m                 \u001b[1;32mif\u001b[0m \u001b[0mdtype\u001b[0m\u001b[1;33m.\u001b[0m\u001b[0mordered\u001b[0m\u001b[1;33m:\u001b[0m\u001b[1;33m\u001b[0m\u001b[1;33m\u001b[0m\u001b[0m\n\u001b[0;32m    359\u001b[0m                     \u001b[1;31m# raise, as we don't have a sortable data structure and so\u001b[0m\u001b[1;33m\u001b[0m\u001b[1;33m\u001b[0m\u001b[1;33m\u001b[0m\u001b[0m\n",
      "\u001b[1;32m~\\anaconda3\\envs\\fastai-cpu\\lib\\site-packages\\pandas\\core\\algorithms.py\u001b[0m in \u001b[0;36mfactorize\u001b[1;34m(values, sort, na_sentinel, size_hint)\u001b[0m\n\u001b[0;32m    634\u001b[0m \u001b[1;33m\u001b[0m\u001b[0m\n\u001b[0;32m    635\u001b[0m         codes, uniques = _factorize_array(\n\u001b[1;32m--> 636\u001b[1;33m             \u001b[0mvalues\u001b[0m\u001b[1;33m,\u001b[0m \u001b[0mna_sentinel\u001b[0m\u001b[1;33m=\u001b[0m\u001b[0mna_sentinel\u001b[0m\u001b[1;33m,\u001b[0m \u001b[0msize_hint\u001b[0m\u001b[1;33m=\u001b[0m\u001b[0msize_hint\u001b[0m\u001b[1;33m,\u001b[0m \u001b[0mna_value\u001b[0m\u001b[1;33m=\u001b[0m\u001b[0mna_value\u001b[0m\u001b[1;33m\u001b[0m\u001b[1;33m\u001b[0m\u001b[0m\n\u001b[0m\u001b[0;32m    637\u001b[0m         )\n\u001b[0;32m    638\u001b[0m \u001b[1;33m\u001b[0m\u001b[0m\n",
      "\u001b[1;32m~\\anaconda3\\envs\\fastai-cpu\\lib\\site-packages\\pandas\\core\\algorithms.py\u001b[0m in \u001b[0;36m_factorize_array\u001b[1;34m(values, na_sentinel, size_hint, na_value)\u001b[0m\n\u001b[0;32m    482\u001b[0m \u001b[1;33m\u001b[0m\u001b[0m\n\u001b[0;32m    483\u001b[0m     \u001b[0mtable\u001b[0m \u001b[1;33m=\u001b[0m \u001b[0mhash_klass\u001b[0m\u001b[1;33m(\u001b[0m\u001b[0msize_hint\u001b[0m \u001b[1;32mor\u001b[0m \u001b[0mlen\u001b[0m\u001b[1;33m(\u001b[0m\u001b[0mvalues\u001b[0m\u001b[1;33m)\u001b[0m\u001b[1;33m)\u001b[0m\u001b[1;33m\u001b[0m\u001b[1;33m\u001b[0m\u001b[0m\n\u001b[1;32m--> 484\u001b[1;33m     \u001b[0muniques\u001b[0m\u001b[1;33m,\u001b[0m \u001b[0mcodes\u001b[0m \u001b[1;33m=\u001b[0m \u001b[0mtable\u001b[0m\u001b[1;33m.\u001b[0m\u001b[0mfactorize\u001b[0m\u001b[1;33m(\u001b[0m\u001b[0mvalues\u001b[0m\u001b[1;33m,\u001b[0m \u001b[0mna_sentinel\u001b[0m\u001b[1;33m=\u001b[0m\u001b[0mna_sentinel\u001b[0m\u001b[1;33m,\u001b[0m \u001b[0mna_value\u001b[0m\u001b[1;33m=\u001b[0m\u001b[0mna_value\u001b[0m\u001b[1;33m)\u001b[0m\u001b[1;33m\u001b[0m\u001b[1;33m\u001b[0m\u001b[0m\n\u001b[0m\u001b[0;32m    485\u001b[0m \u001b[1;33m\u001b[0m\u001b[0m\n\u001b[0;32m    486\u001b[0m     \u001b[0mcodes\u001b[0m \u001b[1;33m=\u001b[0m \u001b[0mensure_platform_int\u001b[0m\u001b[1;33m(\u001b[0m\u001b[0mcodes\u001b[0m\u001b[1;33m)\u001b[0m\u001b[1;33m\u001b[0m\u001b[1;33m\u001b[0m\u001b[0m\n",
      "\u001b[1;32mpandas\\_libs\\hashtable_class_helper.pxi\u001b[0m in \u001b[0;36mpandas._libs.hashtable.PyObjectHashTable.factorize\u001b[1;34m()\u001b[0m\n",
      "\u001b[1;32mpandas\\_libs\\hashtable_class_helper.pxi\u001b[0m in \u001b[0;36mpandas._libs.hashtable.PyObjectHashTable._unique\u001b[1;34m()\u001b[0m\n",
      "\u001b[1;31mTypeError\u001b[0m: unhashable type: 'list'"
     ]
    }
   ],
   "source": [
    "train_cat.astype(\"category\", copy=False).dtypes"
   ]
  },
  {
   "cell_type": "markdown",
   "metadata": {
    "hidden": true
   },
   "source": [
    "Error identified: column containing list as their objects  \n",
    "Proposed solution: expand each element of the list to a few rows >> may result in explosion of number of rows"
   ]
  },
  {
   "cell_type": "markdown",
   "metadata": {
    "heading_collapsed": true,
    "hidden": true
   },
   "source": [
    "##### Solution"
   ]
  },
  {
   "cell_type": "markdown",
   "metadata": {
    "hidden": true
   },
   "source": [
    "Problem: There are columns which has lists as their elements  \n",
    "Solution: Replicate the rows for all the individual elements in the list (using explode)"
   ]
  },
  {
   "cell_type": "markdown",
   "metadata": {
    "hidden": true
   },
   "source": [
    "Columns with  \n",
    "list objects >> stumps, hats, caterpillars, hats_placed, buckets, buckets_placed, pillars, chests  \n",
    "json >> crystals, left, right"
   ]
  },
  {
   "cell_type": "markdown",
   "metadata": {
    "hidden": true
   },
   "source": [
    "Explode will expand for each element in the list, a new row.  \n",
    "Basically, the following code extracts each individual item in the list items in the dataset."
   ]
  },
  {
   "cell_type": "code",
   "execution_count": 13,
   "metadata": {
    "ExecuteTime": {
     "end_time": "2020-07-17T01:20:39.286159Z",
     "start_time": "2020-07-17T01:18:59.757551Z"
    },
    "hidden": true
   },
   "outputs": [
    {
     "name": "stdout",
     "output_type": "stream",
     "text": [
      "Wall time: 12.5 s\n",
      "Wall time: 8.08 s\n",
      "Wall time: 18.8 s\n",
      "Wall time: 9.68 s\n",
      "Wall time: 9.79 s\n",
      "Wall time: 9.89 s\n",
      "Wall time: 10.1 s\n",
      "Wall time: 20.3 s\n"
     ]
    }
   ],
   "source": [
    "%time tmp1 = tmp1.explode(\"stumps\")\n",
    "%time tmp1 = tmp1.explode(\"hats\")\n",
    "%time tmp1 = tmp1.explode(\"caterpillars\")\n",
    "%time tmp1 = tmp1.explode(\"hats_placed\")\n",
    "%time tmp1 = tmp1.explode(\"buckets\")\n",
    "%time tmp1 = tmp1.explode(\"buckets_placed\")\n",
    "%time tmp1 = tmp1.explode(\"pillars\")\n",
    "%time tmp9 = tmp1.explode(\"chests\")"
   ]
  },
  {
   "cell_type": "markdown",
   "metadata": {
    "hidden": true
   },
   "source": [
    "Problem: cannot split the json columns because they have float as objects"
   ]
  },
  {
   "cell_type": "markdown",
   "metadata": {
    "heading_collapsed": true,
    "hidden": true
   },
   "source": [
    "##### (Skip) ERROR with splitting numeric json"
   ]
  },
  {
   "cell_type": "markdown",
   "metadata": {
    "hidden": true
   },
   "source": [
    "Some columns have nested JSON files"
   ]
  },
  {
   "cell_type": "code",
   "execution_count": 24,
   "metadata": {
    "ExecuteTime": {
     "end_time": "2020-06-20T16:34:16.070410Z",
     "start_time": "2020-06-20T16:34:15.979060Z"
    },
    "collapsed": true,
    "hidden": true
   },
   "outputs": [
    {
     "ename": "TypeError",
     "evalue": "the JSON object must be str, bytes or bytearray, not 'float'",
     "output_type": "error",
     "traceback": [
      "\u001b[1;31m---------------------------------------------------------------------------\u001b[0m",
      "\u001b[1;31mTypeError\u001b[0m                                 Traceback (most recent call last)",
      "\u001b[1;32m<ipython-input-24-25cd352e00ba>\u001b[0m in \u001b[0;36m<module>\u001b[1;34m\u001b[0m\n\u001b[0;32m      1\u001b[0m \u001b[1;31m#tmp8 = pd.io.json.json_normalize(tmp7.crystals.apply(json.loads))\u001b[0m\u001b[1;33m\u001b[0m\u001b[1;33m\u001b[0m\u001b[1;33m\u001b[0m\u001b[0m\n\u001b[0;32m      2\u001b[0m \u001b[1;31m#tmp9 = pd.io.json.json_normalize(tmp8.left.apply(json.loads))\u001b[0m\u001b[1;33m\u001b[0m\u001b[1;33m\u001b[0m\u001b[1;33m\u001b[0m\u001b[0m\n\u001b[1;32m----> 3\u001b[1;33m \u001b[0mtmp10\u001b[0m \u001b[1;33m=\u001b[0m \u001b[0mpd\u001b[0m\u001b[1;33m.\u001b[0m\u001b[0mio\u001b[0m\u001b[1;33m.\u001b[0m\u001b[0mjson\u001b[0m\u001b[1;33m.\u001b[0m\u001b[0mjson_normalize\u001b[0m\u001b[1;33m(\u001b[0m\u001b[0mtmp7\u001b[0m\u001b[1;33m.\u001b[0m\u001b[0mright\u001b[0m\u001b[1;33m.\u001b[0m\u001b[0mapply\u001b[0m\u001b[1;33m(\u001b[0m\u001b[0mjson\u001b[0m\u001b[1;33m.\u001b[0m\u001b[0mloads\u001b[0m\u001b[1;33m)\u001b[0m\u001b[1;33m)\u001b[0m\u001b[1;33m\u001b[0m\u001b[1;33m\u001b[0m\u001b[0m\n\u001b[0m",
      "\u001b[1;32m~\\anaconda3\\envs\\fastai-cpu\\lib\\site-packages\\pandas\\core\\series.py\u001b[0m in \u001b[0;36mapply\u001b[1;34m(self, func, convert_dtype, args, **kwds)\u001b[0m\n\u001b[0;32m   3846\u001b[0m             \u001b[1;32melse\u001b[0m\u001b[1;33m:\u001b[0m\u001b[1;33m\u001b[0m\u001b[1;33m\u001b[0m\u001b[0m\n\u001b[0;32m   3847\u001b[0m                 \u001b[0mvalues\u001b[0m \u001b[1;33m=\u001b[0m \u001b[0mself\u001b[0m\u001b[1;33m.\u001b[0m\u001b[0mastype\u001b[0m\u001b[1;33m(\u001b[0m\u001b[0mobject\u001b[0m\u001b[1;33m)\u001b[0m\u001b[1;33m.\u001b[0m\u001b[0mvalues\u001b[0m\u001b[1;33m\u001b[0m\u001b[1;33m\u001b[0m\u001b[0m\n\u001b[1;32m-> 3848\u001b[1;33m                 \u001b[0mmapped\u001b[0m \u001b[1;33m=\u001b[0m \u001b[0mlib\u001b[0m\u001b[1;33m.\u001b[0m\u001b[0mmap_infer\u001b[0m\u001b[1;33m(\u001b[0m\u001b[0mvalues\u001b[0m\u001b[1;33m,\u001b[0m \u001b[0mf\u001b[0m\u001b[1;33m,\u001b[0m \u001b[0mconvert\u001b[0m\u001b[1;33m=\u001b[0m\u001b[0mconvert_dtype\u001b[0m\u001b[1;33m)\u001b[0m\u001b[1;33m\u001b[0m\u001b[1;33m\u001b[0m\u001b[0m\n\u001b[0m\u001b[0;32m   3849\u001b[0m \u001b[1;33m\u001b[0m\u001b[0m\n\u001b[0;32m   3850\u001b[0m         \u001b[1;32mif\u001b[0m \u001b[0mlen\u001b[0m\u001b[1;33m(\u001b[0m\u001b[0mmapped\u001b[0m\u001b[1;33m)\u001b[0m \u001b[1;32mand\u001b[0m \u001b[0misinstance\u001b[0m\u001b[1;33m(\u001b[0m\u001b[0mmapped\u001b[0m\u001b[1;33m[\u001b[0m\u001b[1;36m0\u001b[0m\u001b[1;33m]\u001b[0m\u001b[1;33m,\u001b[0m \u001b[0mSeries\u001b[0m\u001b[1;33m)\u001b[0m\u001b[1;33m:\u001b[0m\u001b[1;33m\u001b[0m\u001b[1;33m\u001b[0m\u001b[0m\n",
      "\u001b[1;32mpandas\\_libs\\lib.pyx\u001b[0m in \u001b[0;36mpandas._libs.lib.map_infer\u001b[1;34m()\u001b[0m\n",
      "\u001b[1;32m~\\anaconda3\\envs\\fastai-cpu\\lib\\json\\__init__.py\u001b[0m in \u001b[0;36mloads\u001b[1;34m(s, encoding, cls, object_hook, parse_float, parse_int, parse_constant, object_pairs_hook, **kw)\u001b[0m\n\u001b[0;32m    346\u001b[0m         \u001b[1;32mif\u001b[0m \u001b[1;32mnot\u001b[0m \u001b[0misinstance\u001b[0m\u001b[1;33m(\u001b[0m\u001b[0ms\u001b[0m\u001b[1;33m,\u001b[0m \u001b[1;33m(\u001b[0m\u001b[0mbytes\u001b[0m\u001b[1;33m,\u001b[0m \u001b[0mbytearray\u001b[0m\u001b[1;33m)\u001b[0m\u001b[1;33m)\u001b[0m\u001b[1;33m:\u001b[0m\u001b[1;33m\u001b[0m\u001b[1;33m\u001b[0m\u001b[0m\n\u001b[0;32m    347\u001b[0m             raise TypeError('the JSON object must be str, bytes or bytearray, '\n\u001b[1;32m--> 348\u001b[1;33m                             'not {!r}'.format(s.__class__.__name__))\n\u001b[0m\u001b[0;32m    349\u001b[0m         \u001b[0ms\u001b[0m \u001b[1;33m=\u001b[0m \u001b[0ms\u001b[0m\u001b[1;33m.\u001b[0m\u001b[0mdecode\u001b[0m\u001b[1;33m(\u001b[0m\u001b[0mdetect_encoding\u001b[0m\u001b[1;33m(\u001b[0m\u001b[0ms\u001b[0m\u001b[1;33m)\u001b[0m\u001b[1;33m,\u001b[0m \u001b[1;34m'surrogatepass'\u001b[0m\u001b[1;33m)\u001b[0m\u001b[1;33m\u001b[0m\u001b[1;33m\u001b[0m\u001b[0m\n\u001b[0;32m    350\u001b[0m \u001b[1;33m\u001b[0m\u001b[0m\n",
      "\u001b[1;31mTypeError\u001b[0m: the JSON object must be str, bytes or bytearray, not 'float'"
     ]
    }
   ],
   "source": [
    "tmp8 = pd.io.json.json_normalize(tmp7.crystals.apply(json.loads))\n",
    "tmp9 = pd.io.json.json_normalize(tmp8.left.apply(json.loads))\n",
    "tmp10 = pd.io.json.json_normalize(tmp9.right.apply(json.loads))"
   ]
  },
  {
   "cell_type": "code",
   "execution_count": 21,
   "metadata": {
    "ExecuteTime": {
     "end_time": "2020-06-20T16:31:12.166824Z",
     "start_time": "2020-06-20T16:31:12.044598Z"
    },
    "collapsed": true,
    "hidden": true
   },
   "outputs": [
    {
     "data": {
      "text/plain": [
       "50534                                NaN\n",
       "70925                                NaN\n",
       "166287                               NaN\n",
       "241347                               NaN\n",
       "286157                               NaN\n",
       "304382                               NaN\n",
       "321196    [{'id': 'gem07', 'weight': 6}]\n",
       "472394                               NaN\n",
       "541525                               NaN\n",
       "588937                               NaN\n",
       "597285                               NaN\n",
       "599448                               NaN\n",
       "614016                               NaN\n",
       "622451                               NaN\n",
       "704468                               NaN\n",
       "732465                               NaN\n",
       "779274                               NaN\n",
       "780493                               NaN\n",
       "804624                               NaN\n",
       "833310                                []\n",
       "Name: crystals, dtype: object"
      ]
     },
     "execution_count": 21,
     "metadata": {},
     "output_type": "execute_result"
    }
   ],
   "source": [
    "tt = get_sample(tmp7, 20)\n",
    "tt.crystals"
   ]
  },
  {
   "cell_type": "code",
   "execution_count": 10,
   "metadata": {
    "ExecuteTime": {
     "end_time": "2020-06-20T16:18:27.201380Z",
     "start_time": "2020-06-20T16:18:27.005230Z"
    },
    "hidden": true,
    "scrolled": false
   },
   "outputs": [
    {
     "data": {
      "text/plain": [
       "(1943261, 46)"
      ]
     },
     "execution_count": 10,
     "metadata": {},
     "output_type": "execute_result"
    }
   ],
   "source": [
    "tmp7.shape"
   ]
  },
  {
   "cell_type": "code",
   "execution_count": 15,
   "metadata": {
    "ExecuteTime": {
     "end_time": "2020-06-20T16:22:22.961753Z",
     "start_time": "2020-06-20T16:22:22.896857Z"
    },
    "collapsed": true,
    "hidden": true
   },
   "outputs": [
    {
     "name": "stdout",
     "output_type": "stream",
     "text": [
      "<class 'pandas.core.frame.DataFrame'>\n",
      "Int64Index: 1943261 entries, 0 to 865446\n",
      "Data columns (total 43 columns):\n",
      " #   Column                    Dtype   \n",
      "---  ------                    -----   \n",
      " 0   version                   category\n",
      " 1   event_count               int64   \n",
      " 2   game_time                 int64   \n",
      " 3   event_code                int64   \n",
      " 4   description               category\n",
      " 5   identifier                category\n",
      " 6   media_type                category\n",
      " 7   total_duration            float64 \n",
      " 8   duration                  float64 \n",
      " 9   height                    float64 \n",
      " 10  coordinates.x             float64 \n",
      " 11  coordinates.y             float64 \n",
      " 12  coordinates.stage_width   float64 \n",
      " 13  coordinates.stage_height  float64 \n",
      " 14  stumps                    category\n",
      " 15  source                    category\n",
      " 16  destination               category\n",
      " 17  correct                   category\n",
      " 18  misses                    float64 \n",
      " 19  session_duration          float64 \n",
      " 20  exit_type                 category\n",
      " 21  stage_number              float64 \n",
      " 22  hat                       float64 \n",
      " 23  caterpillar               category\n",
      " 24  hats                      category\n",
      " 25  caterpillars              category\n",
      " 26  bird_height               float64 \n",
      " 27  hats_placed               category\n",
      " 28  buckets                   category\n",
      " 29  target_bucket             float64 \n",
      " 30  mode                      category\n",
      " 31  prompt                    category\n",
      " 32  round_number              float64 \n",
      " 33  bucket                    float64 \n",
      " 34  buckets_placed            category\n",
      " 35  cauldron                  float64 \n",
      " 36  crystal_id                category\n",
      " 37  weight                    float64 \n",
      " 38  side                      category\n",
      " 39  pillars                   category\n",
      " 40  chests                    category\n",
      " 41  dwell_time                float64 \n",
      " 42  object                    category\n",
      "dtypes: category(22), float64(18), int64(3)\n",
      "memory usage: 367.0 MB\n"
     ]
    }
   ],
   "source": [
    "tmp7.info()"
   ]
  },
  {
   "cell_type": "markdown",
   "metadata": {
    "heading_collapsed": true,
    "hidden": true
   },
   "source": [
    "##### Alternative: Drop json columns "
   ]
  },
  {
   "cell_type": "markdown",
   "metadata": {
    "hidden": true
   },
   "source": [
    "Drop the insignificant data in JSON format which are hard to process"
   ]
  },
  {
   "cell_type": "code",
   "execution_count": 14,
   "metadata": {
    "ExecuteTime": {
     "end_time": "2020-07-17T01:20:40.472816Z",
     "start_time": "2020-07-17T01:20:39.304112Z"
    },
    "hidden": true
   },
   "outputs": [],
   "source": [
    "tmp9.drop([\"crystals\", \"left\", \"right\"], inplace=True, axis = 1)"
   ]
  },
  {
   "cell_type": "code",
   "execution_count": 15,
   "metadata": {
    "ExecuteTime": {
     "end_time": "2020-07-17T01:20:41.231417Z",
     "start_time": "2020-07-17T01:20:40.475730Z"
    },
    "hidden": true
   },
   "outputs": [],
   "source": [
    "train = tmp9.copy()"
   ]
  },
  {
   "cell_type": "markdown",
   "metadata": {
    "heading_collapsed": true,
    "hidden": true
   },
   "source": [
    "### (2) Columns Processing"
   ]
  },
  {
   "cell_type": "markdown",
   "metadata": {
    "hidden": true
   },
   "source": [
    "Timestamp is pretty much insignificant and cannot be extrapolated for test set"
   ]
  },
  {
   "cell_type": "code",
   "execution_count": 16,
   "metadata": {
    "ExecuteTime": {
     "end_time": "2020-07-17T01:20:49.141352Z",
     "start_time": "2020-07-17T01:20:48.231105Z"
    },
    "hidden": true
   },
   "outputs": [],
   "source": [
    "train.drop(\"timestamp\", axis=1, inplace=True)"
   ]
  },
  {
   "cell_type": "markdown",
   "metadata": {
    "heading_collapsed": true,
    "hidden": true
   },
   "source": [
    "### (3) FastAI Preprocessing"
   ]
  },
  {
   "cell_type": "markdown",
   "metadata": {
    "hidden": true
   },
   "source": [
    "Installation IDs are randomly generated and there are no overlapping IDs between training and test set"
   ]
  },
  {
   "cell_type": "code",
   "execution_count": 17,
   "metadata": {
    "ExecuteTime": {
     "end_time": "2020-07-17T01:20:54.096883Z",
     "start_time": "2020-07-17T01:20:53.220478Z"
    },
    "hidden": true
   },
   "outputs": [],
   "source": [
    "train.drop(\"installation_id\", axis=1, inplace=True)"
   ]
  },
  {
   "cell_type": "markdown",
   "metadata": {
    "hidden": true
   },
   "source": [
    "Convert Type: Object to Category"
   ]
  },
  {
   "cell_type": "code",
   "execution_count": 18,
   "metadata": {
    "ExecuteTime": {
     "end_time": "2020-07-17T01:21:06.228546Z",
     "start_time": "2020-07-17T01:20:57.866637Z"
    },
    "hidden": true
   },
   "outputs": [],
   "source": [
    "train_cats(train)"
   ]
  },
  {
   "cell_type": "code",
   "execution_count": 19,
   "metadata": {
    "ExecuteTime": {
     "end_time": "2020-07-17T01:21:06.421904Z",
     "start_time": "2020-07-17T01:21:06.231382Z"
    },
    "hidden": true
   },
   "outputs": [],
   "source": [
    "## event code is categorical, but numeric >> try to make it object type\n",
    "train.event_code = train.event_code.astype(\"category\", copy=False)\n",
    "train.accuracy_group = train.accuracy_group.astype(\"category\", copy=False)"
   ]
  },
  {
   "cell_type": "code",
   "execution_count": 20,
   "metadata": {
    "ExecuteTime": {
     "end_time": "2020-07-17T01:21:07.132210Z",
     "start_time": "2020-07-17T01:21:06.422870Z"
    },
    "hidden": true
   },
   "outputs": [],
   "source": [
    "train.reset_index(inplace=True)\n",
    "train.to_feather(\"tmp/trn3\")"
   ]
  },
  {
   "cell_type": "code",
   "execution_count": 3,
   "metadata": {
    "ExecuteTime": {
     "end_time": "2020-06-21T15:30:45.923454Z",
     "start_time": "2020-06-21T15:30:45.170583Z"
    },
    "hidden": true
   },
   "outputs": [],
   "source": [
    "train = pd.read_feather(\"tmp/trn3\")"
   ]
  },
  {
   "cell_type": "markdown",
   "metadata": {
    "hidden": true
   },
   "source": [
    "Numericalise the categorical values, deal with missing values and one-hot encoding.  \n",
    "Finally, split into dependent and independent variables"
   ]
  },
  {
   "cell_type": "code",
   "execution_count": 21,
   "metadata": {
    "ExecuteTime": {
     "end_time": "2020-07-17T01:21:12.310677Z",
     "start_time": "2020-07-17T01:21:08.705280Z"
    },
    "hidden": true
   },
   "outputs": [],
   "source": [
    "full_X, full_y, nas = proc_df(train, \"accuracy_group\", max_n_cat = 7)"
   ]
  },
  {
   "cell_type": "markdown",
   "metadata": {
    "heading_collapsed": true,
    "hidden": true
   },
   "source": [
    "### (4) Split Validation Set"
   ]
  },
  {
   "cell_type": "markdown",
   "metadata": {
    "hidden": true
   },
   "source": [
    "80/20 split"
   ]
  },
  {
   "cell_type": "code",
   "execution_count": 22,
   "metadata": {
    "ExecuteTime": {
     "end_time": "2020-07-17T01:21:18.758876Z",
     "start_time": "2020-07-17T01:21:18.686748Z"
    },
    "hidden": true
   },
   "outputs": [],
   "source": [
    "train_size = int((len(full_X)*0.8) // 1)"
   ]
  },
  {
   "cell_type": "code",
   "execution_count": 23,
   "metadata": {
    "ExecuteTime": {
     "end_time": "2020-07-17T01:21:19.915096Z",
     "start_time": "2020-07-17T01:21:19.318439Z"
    },
    "hidden": true
   },
   "outputs": [],
   "source": [
    "train_X, valid_X = split_val(full_X, train_size)\n",
    "train_y, valid_y = split_val(full_y, train_size)"
   ]
  },
  {
   "cell_type": "markdown",
   "metadata": {
    "heading_collapsed": true
   },
   "source": [
    "## Trial Run"
   ]
  },
  {
   "cell_type": "code",
   "execution_count": 24,
   "metadata": {
    "ExecuteTime": {
     "end_time": "2020-07-17T01:21:22.792982Z",
     "start_time": "2020-07-17T01:21:22.720874Z"
    },
    "hidden": true
   },
   "outputs": [],
   "source": [
    "set_rf_samples(200000)"
   ]
  },
  {
   "cell_type": "code",
   "execution_count": 25,
   "metadata": {
    "ExecuteTime": {
     "end_time": "2020-07-17T01:21:30.060404Z",
     "start_time": "2020-07-17T01:21:29.995496Z"
    },
    "hidden": true
   },
   "outputs": [],
   "source": [
    "# histogram problem: we temporarily add 1 to label\n",
    "train_y = train_y + 1\n",
    "valid_y = valid_y + 1"
   ]
  },
  {
   "cell_type": "code",
   "execution_count": 26,
   "metadata": {
    "ExecuteTime": {
     "end_time": "2020-07-17T01:25:00.990651Z",
     "start_time": "2020-07-17T01:21:31.658280Z"
    },
    "hidden": true
   },
   "outputs": [
    {
     "name": "stdout",
     "output_type": "stream",
     "text": [
      "Wall time: 3min 29s\n"
     ]
    },
    {
     "data": {
      "text/plain": [
       "RandomForestClassifier(bootstrap=True, ccp_alpha=0.0, class_weight=None,\n",
       "                       criterion='gini', max_depth=None, max_features=0.5,\n",
       "                       max_leaf_nodes=None, max_samples=None,\n",
       "                       min_impurity_decrease=0.0, min_impurity_split=None,\n",
       "                       min_samples_leaf=5, min_samples_split=2,\n",
       "                       min_weight_fraction_leaf=0.0, n_estimators=40, n_jobs=-1,\n",
       "                       oob_score=False, random_state=None, verbose=0,\n",
       "                       warm_start=False)"
      ]
     },
     "execution_count": 26,
     "metadata": {},
     "output_type": "execute_result"
    }
   ],
   "source": [
    "m = RandomForestClassifier(n_jobs=-1, oob_score=False,\n",
    "                          n_estimators = 40, min_samples_leaf = 5, max_features = 0.5)\n",
    "%time m.fit(train_X, train_y)"
   ]
  },
  {
   "cell_type": "markdown",
   "metadata": {
    "hidden": true
   },
   "source": [
    "Save model >> for re-run"
   ]
  },
  {
   "cell_type": "code",
   "execution_count": 27,
   "metadata": {
    "ExecuteTime": {
     "end_time": "2020-07-17T01:25:26.309886Z",
     "start_time": "2020-07-17T01:25:00.992645Z"
    },
    "hidden": true
   },
   "outputs": [
    {
     "name": "stdout",
     "output_type": "stream",
     "text": [
      "train_Kappa\n",
      "0.9564763773439406\n",
      "\n",
      "\n",
      "validation_Kappa\n",
      "0.5830827121984775\n"
     ]
    }
   ],
   "source": [
    "print_score(m)"
   ]
  },
  {
   "cell_type": "code",
   "execution_count": 28,
   "metadata": {
    "ExecuteTime": {
     "end_time": "2020-07-17T01:25:35.748877Z",
     "start_time": "2020-07-17T01:25:34.931757Z"
    },
    "hidden": true
   },
   "outputs": [
    {
     "data": {
      "text/plain": [
       "['tmp/mod1.pkl']"
      ]
     },
     "execution_count": 28,
     "metadata": {},
     "output_type": "execute_result"
    }
   ],
   "source": [
    "import joblib\n",
    "\n",
    "joblib.dump(m, \"tmp/mod1.pkl\")"
   ]
  },
  {
   "cell_type": "code",
   "execution_count": 29,
   "metadata": {
    "ExecuteTime": {
     "end_time": "2020-07-17T01:25:37.385863Z",
     "start_time": "2020-07-17T01:25:35.754909Z"
    },
    "hidden": true
   },
   "outputs": [],
   "source": [
    "import joblib\n",
    "\n",
    "m = joblib.load(\"tmp/mod1.pkl\")"
   ]
  },
  {
   "cell_type": "markdown",
   "metadata": {
    "heading_collapsed": true
   },
   "source": [
    "## Interpretations"
   ]
  },
  {
   "cell_type": "code",
   "execution_count": 30,
   "metadata": {
    "ExecuteTime": {
     "end_time": "2020-07-17T01:25:43.156955Z",
     "start_time": "2020-07-17T01:25:43.075659Z"
    },
    "hidden": true
   },
   "outputs": [],
   "source": [
    "# these are backups in case I want to restore the dataset I modified to an earlier state\n",
    "\n",
    "sto0 = train_X\n",
    "sto1 = train_y\n",
    "sto2 = valid_X\n",
    "sto3 = valid_y\n",
    "sto4 = full_X\n",
    "sto5 = full_y"
   ]
  },
  {
   "cell_type": "markdown",
   "metadata": {
    "heading_collapsed": true,
    "hidden": true
   },
   "source": [
    "#### (Skip when re-run) Feature Importance"
   ]
  },
  {
   "cell_type": "code",
   "execution_count": 31,
   "metadata": {
    "ExecuteTime": {
     "end_time": "2020-07-17T01:25:46.267547Z",
     "start_time": "2020-07-17T01:25:46.023388Z"
    },
    "hidden": true
   },
   "outputs": [],
   "source": [
    "fi = rf_feat_importance(m, train_X)"
   ]
  },
  {
   "cell_type": "code",
   "execution_count": 32,
   "metadata": {
    "ExecuteTime": {
     "end_time": "2020-07-17T01:25:48.273695Z",
     "start_time": "2020-07-17T01:25:46.995795Z"
    },
    "hidden": true
   },
   "outputs": [
    {
     "data": {
      "text/plain": [
       "<matplotlib.axes._subplots.AxesSubplot at 0x22a98c4e860>"
      ]
     },
     "execution_count": 32,
     "metadata": {},
     "output_type": "execute_result"
    },
    {
     "data": {
      "image/png": "[encoded data removed]",
      "text/plain": [
       "<Figure size 864x504 with 1 Axes>"
      ]
     },
     "metadata": {
      "needs_background": "light"
     },
     "output_type": "display_data"
    }
   ],
   "source": [
    "fi[:30].plot(\"cols\", \"imp\", \"barh\", figsize = (12, 7))"
   ]
  },
  {
   "cell_type": "code",
   "execution_count": 33,
   "metadata": {
    "ExecuteTime": {
     "end_time": "2020-07-17T01:25:51.041557Z",
     "start_time": "2020-07-17T01:25:50.975733Z"
    },
    "hidden": true
   },
   "outputs": [],
   "source": [
    "sig_cols = fi[fi.imp>0.010].cols"
   ]
  },
  {
   "cell_type": "code",
   "execution_count": 34,
   "metadata": {
    "ExecuteTime": {
     "end_time": "2020-07-17T01:25:52.759283Z",
     "start_time": "2020-07-17T01:25:52.685558Z"
    },
    "hidden": true,
    "scrolled": false
   },
   "outputs": [
    {
     "data": {
      "text/plain": [
       "0                                 index\n",
       "26                         game_session\n",
       "27                          event_count\n",
       "29                            game_time\n",
       "7                         coordinates.y\n",
       "6                         coordinates.x\n",
       "122     title_Chest Sorter (Assessment)\n",
       "4                              duration\n",
       "14                                  hat\n",
       "15                         caterpillars\n",
       "119    title_Bird Measurer (Assessment)\n",
       "67                         correct_True\n",
       "66                        correct_False\n",
       "10                               source\n",
       "25                             event_id\n",
       "Name: cols, dtype: object"
      ]
     },
     "execution_count": 34,
     "metadata": {},
     "output_type": "execute_result"
    }
   ],
   "source": [
    "sig_cols"
   ]
  },
  {
   "cell_type": "markdown",
   "metadata": {
    "hidden": true
   },
   "source": [
    "game_session - Randomly generated unique identifier grouping events within a single game or video play session.  \n",
    "installation_id - Randomly generated unique identifier grouping game sessions within a single installed application instance.  \n",
    "event_id - Randomly generated unique identifier for the event type. Maps to event_id column in specs table.  \n",
    "timestamp - Client-generated datetime  \n",
    "event_count - Incremental counter of events within a game session (offset at 1). Extracted from event_data.  \n",
    "event_code - Identifier of the event 'class'. Unique per game, but may be duplicated across games. E.g. event code '2000' always identifies the 'Start Game' event for all games. Extracted from event_data.  \n",
    "game_time - Time in milliseconds since the start of the game session. Extracted from event_data.  \n",
    "title - Title of the game or video.  "
   ]
  },
  {
   "cell_type": "code",
   "execution_count": 35,
   "metadata": {
    "ExecuteTime": {
     "end_time": "2020-07-17T01:25:57.158229Z",
     "start_time": "2020-07-17T01:25:56.325147Z"
    },
    "hidden": true
   },
   "outputs": [],
   "source": [
    "train2_X = train_X[sig_cols].copy()\n",
    "valid2_X = valid_X[sig_cols].copy()\n",
    "full2_X = full_X[sig_cols].copy()"
   ]
  },
  {
   "cell_type": "code",
   "execution_count": 36,
   "metadata": {
    "ExecuteTime": {
     "end_time": "2020-07-17T01:25:59.085844Z",
     "start_time": "2020-07-17T01:25:58.987235Z"
    },
    "hidden": true
   },
   "outputs": [
    {
     "data": {
      "text/html": [
       "<div>\n",
       "<style scoped>\n",
       "    .dataframe tbody tr th:only-of-type {\n",
       "        vertical-align: middle;\n",
       "    }\n",
       "\n",
       "    .dataframe tbody tr th {\n",
       "        vertical-align: top;\n",
       "    }\n",
       "\n",
       "    .dataframe thead th {\n",
       "        text-align: right;\n",
       "    }\n",
       "</style>\n",
       "<table border=\"1\" class=\"dataframe\">\n",
       "  <thead>\n",
       "    <tr style=\"text-align: right;\">\n",
       "      <th></th>\n",
       "      <th>index</th>\n",
       "      <th>game_session</th>\n",
       "      <th>event_count</th>\n",
       "      <th>game_time</th>\n",
       "      <th>coordinates.y</th>\n",
       "      <th>coordinates.x</th>\n",
       "      <th>title_Chest Sorter (Assessment)</th>\n",
       "      <th>duration</th>\n",
       "      <th>hat</th>\n",
       "      <th>caterpillars</th>\n",
       "      <th>title_Bird Measurer (Assessment)</th>\n",
       "      <th>correct_True</th>\n",
       "      <th>correct_False</th>\n",
       "      <th>source</th>\n",
       "      <th>event_id</th>\n",
       "    </tr>\n",
       "  </thead>\n",
       "  <tbody>\n",
       "    <tr>\n",
       "      <th>0</th>\n",
       "      <td>0</td>\n",
       "      <td>9875</td>\n",
       "      <td>1</td>\n",
       "      <td>0</td>\n",
       "      <td>436.0</td>\n",
       "      <td>521.0</td>\n",
       "      <td>0</td>\n",
       "      <td>1000.0</td>\n",
       "      <td>0.0</td>\n",
       "      <td>0</td>\n",
       "      <td>0</td>\n",
       "      <td>0</td>\n",
       "      <td>0</td>\n",
       "      <td>0</td>\n",
       "      <td>23</td>\n",
       "    </tr>\n",
       "    <tr>\n",
       "      <th>1</th>\n",
       "      <td>1</td>\n",
       "      <td>9875</td>\n",
       "      <td>2</td>\n",
       "      <td>37</td>\n",
       "      <td>436.0</td>\n",
       "      <td>521.0</td>\n",
       "      <td>0</td>\n",
       "      <td>1000.0</td>\n",
       "      <td>0.0</td>\n",
       "      <td>0</td>\n",
       "      <td>0</td>\n",
       "      <td>0</td>\n",
       "      <td>0</td>\n",
       "      <td>0</td>\n",
       "      <td>86</td>\n",
       "    </tr>\n",
       "    <tr>\n",
       "      <th>2</th>\n",
       "      <td>2</td>\n",
       "      <td>9875</td>\n",
       "      <td>3</td>\n",
       "      <td>37</td>\n",
       "      <td>436.0</td>\n",
       "      <td>521.0</td>\n",
       "      <td>0</td>\n",
       "      <td>1000.0</td>\n",
       "      <td>0.0</td>\n",
       "      <td>0</td>\n",
       "      <td>0</td>\n",
       "      <td>0</td>\n",
       "      <td>0</td>\n",
       "      <td>0</td>\n",
       "      <td>66</td>\n",
       "    </tr>\n",
       "    <tr>\n",
       "      <th>3</th>\n",
       "      <td>3</td>\n",
       "      <td>9875</td>\n",
       "      <td>4</td>\n",
       "      <td>3901</td>\n",
       "      <td>436.0</td>\n",
       "      <td>521.0</td>\n",
       "      <td>0</td>\n",
       "      <td>3864.0</td>\n",
       "      <td>0.0</td>\n",
       "      <td>0</td>\n",
       "      <td>0</td>\n",
       "      <td>0</td>\n",
       "      <td>0</td>\n",
       "      <td>0</td>\n",
       "      <td>67</td>\n",
       "    </tr>\n",
       "    <tr>\n",
       "      <th>4</th>\n",
       "      <td>4</td>\n",
       "      <td>9875</td>\n",
       "      <td>5</td>\n",
       "      <td>3901</td>\n",
       "      <td>436.0</td>\n",
       "      <td>521.0</td>\n",
       "      <td>0</td>\n",
       "      <td>1000.0</td>\n",
       "      <td>0.0</td>\n",
       "      <td>0</td>\n",
       "      <td>0</td>\n",
       "      <td>0</td>\n",
       "      <td>0</td>\n",
       "      <td>0</td>\n",
       "      <td>66</td>\n",
       "    </tr>\n",
       "  </tbody>\n",
       "</table>\n",
       "</div>"
      ],
      "text/plain": [
       "   index  game_session  event_count  game_time  coordinates.y  coordinates.x  \\\n",
       "0      0          9875            1          0          436.0          521.0   \n",
       "1      1          9875            2         37          436.0          521.0   \n",
       "2      2          9875            3         37          436.0          521.0   \n",
       "3      3          9875            4       3901          436.0          521.0   \n",
       "4      4          9875            5       3901          436.0          521.0   \n",
       "\n",
       "   title_Chest Sorter (Assessment)  duration  hat  caterpillars  \\\n",
       "0                                0    1000.0  0.0             0   \n",
       "1                                0    1000.0  0.0             0   \n",
       "2                                0    1000.0  0.0             0   \n",
       "3                                0    3864.0  0.0             0   \n",
       "4                                0    1000.0  0.0             0   \n",
       "\n",
       "   title_Bird Measurer (Assessment)  correct_True  correct_False  source  \\\n",
       "0                                 0             0              0       0   \n",
       "1                                 0             0              0       0   \n",
       "2                                 0             0              0       0   \n",
       "3                                 0             0              0       0   \n",
       "4                                 0             0              0       0   \n",
       "\n",
       "   event_id  \n",
       "0        23  \n",
       "1        86  \n",
       "2        66  \n",
       "3        67  \n",
       "4        66  "
      ]
     },
     "execution_count": 36,
     "metadata": {},
     "output_type": "execute_result"
    }
   ],
   "source": [
    "train2_X.head()"
   ]
  },
  {
   "cell_type": "code",
   "execution_count": 37,
   "metadata": {
    "ExecuteTime": {
     "end_time": "2020-07-17T01:26:00.405344Z",
     "start_time": "2020-07-17T01:26:00.234875Z"
    },
    "hidden": true
   },
   "outputs": [],
   "source": [
    "train_X = train2_X.copy()\n",
    "valid_X = valid2_X.copy()\n",
    "full_X = full2_X.copy()"
   ]
  },
  {
   "cell_type": "code",
   "execution_count": 38,
   "metadata": {
    "ExecuteTime": {
     "end_time": "2020-07-17T01:27:39.098976Z",
     "start_time": "2020-07-17T01:26:12.068553Z"
    },
    "hidden": true
   },
   "outputs": [
    {
     "name": "stdout",
     "output_type": "stream",
     "text": [
      "Wall time: 1min 26s\n"
     ]
    },
    {
     "data": {
      "text/plain": [
       "RandomForestClassifier(bootstrap=True, ccp_alpha=0.0, class_weight=None,\n",
       "                       criterion='gini', max_depth=None, max_features=0.5,\n",
       "                       max_leaf_nodes=None, max_samples=None,\n",
       "                       min_impurity_decrease=0.0, min_impurity_split=None,\n",
       "                       min_samples_leaf=5, min_samples_split=2,\n",
       "                       min_weight_fraction_leaf=0.0, n_estimators=40, n_jobs=-1,\n",
       "                       oob_score=False, random_state=None, verbose=0,\n",
       "                       warm_start=False)"
      ]
     },
     "execution_count": 38,
     "metadata": {},
     "output_type": "execute_result"
    }
   ],
   "source": [
    "m = RandomForestClassifier(n_jobs=-1, oob_score=False,\n",
    "                          n_estimators = 40, min_samples_leaf = 5, max_features = 0.5)\n",
    "%time m.fit(train_X, train_y)"
   ]
  },
  {
   "cell_type": "code",
   "execution_count": 21,
   "metadata": {
    "ExecuteTime": {
     "end_time": "2020-06-21T15:34:02.800039Z",
     "start_time": "2020-06-21T15:33:52.358600Z"
    },
    "hidden": true,
    "scrolled": true
   },
   "outputs": [
    {
     "name": "stdout",
     "output_type": "stream",
     "text": [
      "train_Kappa\n",
      "0.9401132129222873\n",
      "\n",
      "\n",
      "validation_Kappa\n",
      "0.5825745801276405\n"
     ]
    }
   ],
   "source": [
    "print_score(m)"
   ]
  },
  {
   "cell_type": "markdown",
   "metadata": {
    "hidden": true
   },
   "source": [
    "fi.imp:\n",
    "* all >> 0.5699454817097576\n",
    "* 0.010 >> 0.576720335751661\n",
    "* 0.02 >> 0.4123768551571235  \n",
    "* 0.025 >> 0.4188415868130472\n",
    "* 0.05 >> 0.408959788819087"
   ]
  },
  {
   "cell_type": "markdown",
   "metadata": {
    "heading_collapsed": true,
    "hidden": true
   },
   "source": [
    "#### (Skip when re-run) Dendrogram"
   ]
  },
  {
   "cell_type": "code",
   "execution_count": 40,
   "metadata": {
    "ExecuteTime": {
     "end_time": "2020-07-17T01:28:14.094818Z",
     "start_time": "2020-07-17T01:28:13.823429Z"
    },
    "hidden": true
   },
   "outputs": [
    {
     "name": "stdout",
     "output_type": "stream",
     "text": [
      "Using matplotlib backend: TkAgg\n",
      "Populating the interactive namespace from numpy and matplotlib\n"
     ]
    },
    {
     "name": "stderr",
     "output_type": "stream",
     "text": [
      "C:\\Users\\ohjia\\anaconda3\\envs\\fastai-cpu\\lib\\site-packages\\IPython\\core\\magics\\pylab.py:160: UserWarning: pylab import has clobbered these variables: ['random', 'copy', 'histogram', 'interactive']\n",
      "`%matplotlib` prevents importing * from pylab and numpy\n",
      "  \"\\n`%matplotlib` prevents importing * from pylab and numpy\"\n"
     ]
    }
   ],
   "source": [
    "from scipy.cluster import hierarchy as hc\n",
    "from matplotlib import pyplot\n",
    "%pylab\n",
    "\n",
    "def dendro(df):\n",
    "\tcorr = np.round( scipy.stats.spearmanr(df).correlation , 4 )\n",
    "\tcorr_condensed = hc.distance.squareform( 1-corr )\n",
    "\tz = hc.linkage(corr_condensed, method = \"average\" )\n",
    "\tfig = plt.figure( figsize(16,10) )\n",
    "\tdendrogram = hc.dendrogram( z, labels = df.columns, orientation=\"left\", leaf_font_size=16 )\n",
    "plt.show()"
   ]
  },
  {
   "cell_type": "code",
   "execution_count": 41,
   "metadata": {
    "ExecuteTime": {
     "end_time": "2020-07-17T01:28:18.304062Z",
     "start_time": "2020-07-17T01:28:15.382770Z"
    },
    "hidden": true,
    "scrolled": false
   },
   "outputs": [
    {
     "name": "stderr",
     "output_type": "stream",
     "text": [
      "Exception in Tkinter callback\n",
      "Traceback (most recent call last):\n",
      "  File \"C:\\Users\\ohjia\\anaconda3\\envs\\fastai-cpu\\lib\\tkinter\\__init__.py\", line 1705, in __call__\n",
      "    return self.func(*args)\n",
      "  File \"C:\\Users\\ohjia\\anaconda3\\envs\\fastai-cpu\\lib\\tkinter\\__init__.py\", line 749, in callit\n",
      "    func(*args)\n",
      "  File \"C:\\Users\\ohjia\\AppData\\Roaming\\Python\\Python36\\site-packages\\matplotlib\\backends\\_backend_tk.py\", line 270, in idle_draw\n",
      "    self.draw()\n",
      "  File \"C:\\Users\\ohjia\\AppData\\Roaming\\Python\\Python36\\site-packages\\matplotlib\\backends\\backend_tkagg.py\", line 9, in draw\n",
      "    super(FigureCanvasTkAgg, self).draw()\n",
      "  File \"C:\\Users\\ohjia\\AppData\\Roaming\\Python\\Python36\\site-packages\\matplotlib\\backends\\backend_agg.py\", line 393, in draw\n",
      "    self.figure.draw(self.renderer)\n",
      "  File \"C:\\Users\\ohjia\\AppData\\Roaming\\Python\\Python36\\site-packages\\matplotlib\\backend_bases.py\", line 1535, in _draw\n",
      "    def _draw(renderer): raise Done(renderer)\n",
      "matplotlib.backend_bases._get_renderer.<locals>.Done: <matplotlib.backends.backend_agg.RendererAgg object at 0x0000022A989042B0>\n",
      "Exception in Tkinter callback\n",
      "Traceback (most recent call last):\n",
      "  File \"C:\\Users\\ohjia\\anaconda3\\envs\\fastai-cpu\\lib\\tkinter\\__init__.py\", line 1705, in __call__\n",
      "    return self.func(*args)\n",
      "  File \"C:\\Users\\ohjia\\AppData\\Roaming\\Python\\Python36\\site-packages\\matplotlib\\backends\\_backend_tk.py\", line 259, in resize\n",
      "    self.draw()\n",
      "  File \"C:\\Users\\ohjia\\AppData\\Roaming\\Python\\Python36\\site-packages\\matplotlib\\backends\\backend_tkagg.py\", line 9, in draw\n",
      "    super(FigureCanvasTkAgg, self).draw()\n",
      "  File \"C:\\Users\\ohjia\\AppData\\Roaming\\Python\\Python36\\site-packages\\matplotlib\\backends\\backend_agg.py\", line 393, in draw\n",
      "    self.figure.draw(self.renderer)\n",
      "  File \"C:\\Users\\ohjia\\AppData\\Roaming\\Python\\Python36\\site-packages\\matplotlib\\backend_bases.py\", line 1535, in _draw\n",
      "    def _draw(renderer): raise Done(renderer)\n",
      "matplotlib.backend_bases._get_renderer.<locals>.Done: <matplotlib.backends.backend_agg.RendererAgg object at 0x0000022A989042B0>\n",
      "Exception in Tkinter callback\n",
      "Traceback (most recent call last):\n",
      "  File \"C:\\Users\\ohjia\\anaconda3\\envs\\fastai-cpu\\lib\\tkinter\\__init__.py\", line 1705, in __call__\n",
      "    return self.func(*args)\n",
      "  File \"C:\\Users\\ohjia\\anaconda3\\envs\\fastai-cpu\\lib\\tkinter\\__init__.py\", line 749, in callit\n",
      "    func(*args)\n",
      "  File \"C:\\Users\\ohjia\\AppData\\Roaming\\Python\\Python36\\site-packages\\matplotlib\\backends\\_backend_tk.py\", line 270, in idle_draw\n",
      "    self.draw()\n",
      "  File \"C:\\Users\\ohjia\\AppData\\Roaming\\Python\\Python36\\site-packages\\matplotlib\\backends\\backend_tkagg.py\", line 9, in draw\n",
      "    super(FigureCanvasTkAgg, self).draw()\n",
      "  File \"C:\\Users\\ohjia\\AppData\\Roaming\\Python\\Python36\\site-packages\\matplotlib\\backends\\backend_agg.py\", line 393, in draw\n",
      "    self.figure.draw(self.renderer)\n",
      "  File \"C:\\Users\\ohjia\\AppData\\Roaming\\Python\\Python36\\site-packages\\matplotlib\\backend_bases.py\", line 1535, in _draw\n",
      "    def _draw(renderer): raise Done(renderer)\n",
      "matplotlib.backend_bases._get_renderer.<locals>.Done: <matplotlib.backends.backend_agg.RendererAgg object at 0x0000022A989042B0>\n"
     ]
    },
    {
     "data": {
      "image/png": "[encoded data removed]",
      "text/plain": [
       "<Figure size 1152x720 with 1 Axes>"
      ]
     },
     "metadata": {
      "needs_background": "light"
     },
     "output_type": "display_data"
    }
   ],
   "source": [
    "dendro(train_X)"
   ]
  },
  {
   "cell_type": "code",
   "execution_count": 42,
   "metadata": {
    "ExecuteTime": {
     "end_time": "2020-07-17T01:28:23.511920Z",
     "start_time": "2020-07-17T01:28:23.450049Z"
    },
    "hidden": true
   },
   "outputs": [],
   "source": [
    "def get_oob(tmp_X):\n",
    "    m = RandomForestRegressor(n_estimators=50, min_samples_leaf=5, max_features=0.5,\n",
    "                              n_jobs=-1, oob_score=True)\n",
    "    m.fit(tmp_X, train_y)\n",
    "    return m.oob_score_"
   ]
  },
  {
   "cell_type": "code",
   "execution_count": 76,
   "metadata": {
    "ExecuteTime": {
     "end_time": "2020-06-21T07:10:58.838057Z",
     "start_time": "2020-06-21T07:08:50.113416Z"
    },
    "hidden": true
   },
   "outputs": [
    {
     "data": {
      "text/plain": [
       "0.8390650107068918"
      ]
     },
     "execution_count": 76,
     "metadata": {},
     "output_type": "execute_result"
    }
   ],
   "source": [
    "# baseline\n",
    "get_oob(train_X)"
   ]
  },
  {
   "cell_type": "code",
   "execution_count": 77,
   "metadata": {
    "ExecuteTime": {
     "end_time": "2020-06-21T07:18:56.949398Z",
     "start_time": "2020-06-21T07:11:09.812556Z"
    },
    "hidden": true
   },
   "outputs": [
    {
     "name": "stdout",
     "output_type": "stream",
     "text": [
      "game_time 0.8311020048304971\n",
      "event_count 0.8347273465991839\n",
      "title_Bird Measurer (Assessment) 0.8285117543960591\n",
      "caterpillars 0.8462713113952098\n"
     ]
    }
   ],
   "source": [
    "for c in [\"game_time\", \"event_count\", \"title_Bird Measurer (Assessment)\", \"caterpillars\"]:\n",
    "    print(c, get_oob(train_X.drop(c, axis=1)))"
   ]
  },
  {
   "cell_type": "code",
   "execution_count": 43,
   "metadata": {
    "ExecuteTime": {
     "end_time": "2020-07-17T01:28:35.498791Z",
     "start_time": "2020-07-17T01:28:35.285098Z"
    },
    "hidden": true
   },
   "outputs": [],
   "source": [
    "to_drop = [\"index\", \"caterpillars\"]\n",
    "\n",
    "train_X.drop(to_drop, axis=1, inplace=True)\n",
    "valid_X.drop(to_drop, axis=1, inplace=True)\n",
    "full_X.drop(to_drop, axis=1, inplace=True)"
   ]
  },
  {
   "cell_type": "code",
   "execution_count": 44,
   "metadata": {
    "ExecuteTime": {
     "end_time": "2020-07-17T01:28:36.358722Z",
     "start_time": "2020-07-17T01:28:36.294925Z"
    },
    "hidden": true,
    "scrolled": true
   },
   "outputs": [
    {
     "data": {
      "text/plain": [
       "Index(['game_session', 'event_count', 'game_time', 'coordinates.y',\n",
       "       'coordinates.x', 'title_Chest Sorter (Assessment)', 'duration', 'hat',\n",
       "       'title_Bird Measurer (Assessment)', 'correct_True', 'correct_False',\n",
       "       'source', 'event_id'],\n",
       "      dtype='object')"
      ]
     },
     "execution_count": 44,
     "metadata": {},
     "output_type": "execute_result"
    }
   ],
   "source": [
    "train_X.columns"
   ]
  },
  {
   "cell_type": "markdown",
   "metadata": {
    "heading_collapsed": true,
    "hidden": true
   },
   "source": [
    "#### Test the new features (kept columns)"
   ]
  },
  {
   "cell_type": "code",
   "execution_count": 33,
   "metadata": {
    "ExecuteTime": {
     "end_time": "2020-06-21T15:36:30.045248Z",
     "start_time": "2020-06-21T15:36:29.979670Z"
    },
    "hidden": true
   },
   "outputs": [],
   "source": [
    "np.save(\"tmp/keep_cols.npy\", np.array(train_X.columns))"
   ]
  },
  {
   "cell_type": "code",
   "execution_count": 46,
   "metadata": {
    "ExecuteTime": {
     "end_time": "2020-07-17T01:28:50.422637Z",
     "start_time": "2020-07-17T01:28:50.341455Z"
    },
    "hidden": true
   },
   "outputs": [],
   "source": [
    "keep_cols = np.load(\"tmp/keep_cols.npy\", allow_pickle = True)"
   ]
  },
  {
   "cell_type": "code",
   "execution_count": 47,
   "metadata": {
    "ExecuteTime": {
     "end_time": "2020-07-17T01:28:51.192301Z",
     "start_time": "2020-07-17T01:28:50.877449Z"
    },
    "hidden": true
   },
   "outputs": [],
   "source": [
    "valid_X = sto2[keep_cols].copy()\n",
    "train_X = sto0[keep_cols].copy()\n",
    "full_X = sto4[keep_cols].copy()"
   ]
  },
  {
   "cell_type": "code",
   "execution_count": 48,
   "metadata": {
    "ExecuteTime": {
     "end_time": "2020-07-17T01:28:52.845442Z",
     "start_time": "2020-07-17T01:28:52.783429Z"
    },
    "hidden": true
   },
   "outputs": [],
   "source": [
    "reset_rf_samples()"
   ]
  },
  {
   "cell_type": "code",
   "execution_count": 49,
   "metadata": {
    "ExecuteTime": {
     "end_time": "2020-07-17T01:31:47.561847Z",
     "start_time": "2020-07-17T01:28:55.256032Z"
    },
    "hidden": true,
    "scrolled": false
   },
   "outputs": [
    {
     "name": "stdout",
     "output_type": "stream",
     "text": [
      "Wall time: 2min 52s\n"
     ]
    },
    {
     "data": {
      "text/plain": [
       "RandomForestClassifier(bootstrap=True, ccp_alpha=0.0, class_weight=None,\n",
       "                       criterion='gini', max_depth=None, max_features=0.5,\n",
       "                       max_leaf_nodes=None, max_samples=None,\n",
       "                       min_impurity_decrease=0.0, min_impurity_split=None,\n",
       "                       min_samples_leaf=5, min_samples_split=2,\n",
       "                       min_weight_fraction_leaf=0.0, n_estimators=100,\n",
       "                       n_jobs=-1, oob_score=False, random_state=None, verbose=0,\n",
       "                       warm_start=False)"
      ]
     },
     "execution_count": 49,
     "metadata": {},
     "output_type": "execute_result"
    }
   ],
   "source": [
    "m = RandomForestClassifier(n_jobs=-1, oob_score=False,\n",
    "                          n_estimators = 100, min_samples_leaf = 5, max_features = 0.5)\n",
    "%time m.fit(train_X, train_y)"
   ]
  },
  {
   "cell_type": "code",
   "execution_count": 52,
   "metadata": {
    "ExecuteTime": {
     "end_time": "2020-07-17T01:34:14.158755Z",
     "start_time": "2020-07-17T01:33:52.751710Z"
    },
    "hidden": true
   },
   "outputs": [
    {
     "name": "stdout",
     "output_type": "stream",
     "text": [
      "train_Kappa\n",
      "0.90384595814749\n",
      "\n",
      "\n",
      "validation_Kappa\n",
      "0.6160664745171884\n"
     ]
    }
   ],
   "source": [
    "print_score(m)"
   ]
  },
  {
   "cell_type": "code",
   "execution_count": 40,
   "metadata": {
    "ExecuteTime": {
     "end_time": "2020-06-21T15:43:42.449490Z",
     "start_time": "2020-06-21T15:43:35.812145Z"
    },
    "hidden": true
   },
   "outputs": [
    {
     "data": {
      "text/plain": [
       "['tmp/mod2.pkl']"
      ]
     },
     "execution_count": 40,
     "metadata": {},
     "output_type": "execute_result"
    }
   ],
   "source": [
    "joblib.dump(m, \"tmp/mod2.pkl\")"
   ]
  },
  {
   "cell_type": "markdown",
   "metadata": {
    "heading_collapsed": true
   },
   "source": [
    "## Checkpoint"
   ]
  },
  {
   "cell_type": "markdown",
   "metadata": {
    "hidden": true
   },
   "source": [
    "This section is for convenient reloading of the datasets after shutting down the kernel."
   ]
  },
  {
   "cell_type": "markdown",
   "metadata": {
    "heading_collapsed": true,
    "hidden": true
   },
   "source": [
    "#### (Skip when re-run) Saving"
   ]
  },
  {
   "cell_type": "code",
   "execution_count": 41,
   "metadata": {
    "ExecuteTime": {
     "end_time": "2020-06-21T15:43:53.700088Z",
     "start_time": "2020-06-21T15:43:53.519998Z"
    },
    "hidden": true
   },
   "outputs": [],
   "source": [
    "valid_X.reset_index(inplace=True)\n",
    "\n",
    "train_X.to_feather(\"tmp/trainX\")\n",
    "valid_X.to_feather(\"tmp/validX\")\n",
    "full_X.to_feather(\"tmp/fullX\")"
   ]
  },
  {
   "cell_type": "code",
   "execution_count": 42,
   "metadata": {
    "ExecuteTime": {
     "end_time": "2020-06-21T15:43:55.001615Z",
     "start_time": "2020-06-21T15:43:54.879412Z"
    },
    "hidden": true
   },
   "outputs": [],
   "source": [
    "np.save(\"tmp/trainy.npy\", train_y)\n",
    "np.save(\"tmp/validy.npy\", valid_y)\n",
    "np.save(\"tmp/fully.npy\", full_y)"
   ]
  },
  {
   "cell_type": "markdown",
   "metadata": {
    "heading_collapsed": true,
    "hidden": true
   },
   "source": [
    "#### Loading (contains everything needed for next sections)"
   ]
  },
  {
   "cell_type": "markdown",
   "metadata": {
    "hidden": true
   },
   "source": [
    "Here are all the objects needed for the next sections"
   ]
  },
  {
   "cell_type": "code",
   "execution_count": 44,
   "metadata": {
    "ExecuteTime": {
     "end_time": "2020-06-21T15:52:16.698367Z",
     "start_time": "2020-06-21T15:49:12.249621Z"
    },
    "hidden": true
   },
   "outputs": [
    {
     "name": "stdout",
     "output_type": "stream",
     "text": [
      "Wall time: 11 s\n",
      "Wall time: 11.5 s\n",
      "Wall time: 13.6 s\n",
      "Wall time: 15.3 s\n",
      "Wall time: 15.8 s\n",
      "Wall time: 17.6 s\n",
      "Wall time: 20.6 s\n",
      "Wall time: 20.5 s\n"
     ]
    }
   ],
   "source": [
    "# this is for the apply_cats reference in Test Set Processing\n",
    "\n",
    "t0 = pd.read_feather(\"tmp/trn2\")\n",
    "t1 = pd.json_normalize(t0.event_data.apply(json.loads))\n",
    "t1.drop([\"event_code\", \"event_count\", \"game_time\"],axis=1, inplace=True)\n",
    "t2 = pd.concat([t0, t1], axis=1)\n",
    "t2.drop(\"event_data\", axis=1, inplace=True)\n",
    "%time t2 = t2.explode(\"stumps\")\n",
    "%time t2 = t2.explode(\"hats\")\n",
    "%time t2 = t2.explode(\"caterpillars\")\n",
    "%time t2 = t2.explode(\"hats_placed\")\n",
    "%time t2 = t2.explode(\"buckets\")\n",
    "%time t2 = t2.explode(\"buckets_placed\")\n",
    "%time t2 = t2.explode(\"pillars\")\n",
    "%time t10 = t2.explode(\"chests\")\n",
    "t10.drop([\"crystals\", \"left\", \"right\"], inplace=True, axis = 1)\n",
    "t10.drop([\"installation_id\", \"timestamp\"], axis=1, inplace=True)\n",
    "train_cats(t10)\n",
    "\n",
    "# for the Test Set processing proc_df reference dictionary\n",
    "t10.event_code = t10.event_code.astype(\"category\", copy=False)\n",
    "t10.accuracy_group = t10.accuracy_group.astype(\"category\", copy=False)\n",
    "_, _, nas = proc_df(t10, \"accuracy_group\", max_n_cat = 7)"
   ]
  },
  {
   "cell_type": "code",
   "execution_count": 71,
   "metadata": {
    "ExecuteTime": {
     "end_time": "2020-06-21T16:08:44.285726Z",
     "start_time": "2020-06-21T16:08:44.135385Z"
    },
    "hidden": true
   },
   "outputs": [],
   "source": [
    "train_X = pd.read_feather(\"tmp/trainX\")\n",
    "valid_X = pd.read_feather(\"tmp/validX\")\n",
    "valid_X.drop(\"index\", axis=1, inplace=True)\n",
    "full_X = pd.read_feather(\"tmp/fullX\")\n",
    "\n",
    "train_y = np.load(\"tmp/trainy.npy\", allow_pickle=True)\n",
    "valid_y = np.load(\"tmp/validy.npy\", allow_pickle=True)\n",
    "full_y = np.load(\"tmp/fully.npy\", allow_pickle=True)"
   ]
  },
  {
   "cell_type": "code",
   "execution_count": 3,
   "metadata": {
    "ExecuteTime": {
     "end_time": "2020-06-22T02:25:23.444453Z",
     "start_time": "2020-06-22T02:25:23.392291Z"
    },
    "hidden": true
   },
   "outputs": [],
   "source": [
    "keep_cols = np.load(\"tmp/keep_cols.npy\", allow_pickle = True)"
   ]
  },
  {
   "cell_type": "code",
   "execution_count": 47,
   "metadata": {
    "ExecuteTime": {
     "end_time": "2020-06-21T15:52:20.460805Z",
     "start_time": "2020-06-21T15:52:17.584415Z"
    },
    "hidden": true
   },
   "outputs": [],
   "source": [
    "# Test Set\n",
    "test = pd.read_feather(\"tmp/tes\")"
   ]
  },
  {
   "cell_type": "markdown",
   "metadata": {
    "heading_collapsed": true
   },
   "source": [
    "## (Skip when re-run) Hyperparameters tuning"
   ]
  },
  {
   "cell_type": "markdown",
   "metadata": {
    "heading_collapsed": true,
    "hidden": true
   },
   "source": [
    "#### (Skip when re-run) Testing space"
   ]
  },
  {
   "cell_type": "code",
   "execution_count": 44,
   "metadata": {
    "ExecuteTime": {
     "end_time": "2020-06-21T08:52:21.559301Z",
     "start_time": "2020-06-21T08:52:21.428792Z"
    },
    "hidden": true
   },
   "outputs": [],
   "source": [
    "?RandomForestClassifier"
   ]
  },
  {
   "cell_type": "code",
   "execution_count": 45,
   "metadata": {
    "ExecuteTime": {
     "end_time": "2020-06-21T08:52:50.200100Z",
     "start_time": "2020-06-21T08:52:50.143781Z"
    },
    "hidden": true
   },
   "outputs": [],
   "source": [
    "para_space = {\"max_features\" : [0.5, \"sqrt\", \"log2\"],\n",
    "              \"min_samples_leaf\" : [1, 3, 5, 10]}"
   ]
  },
  {
   "cell_type": "code",
   "execution_count": 53,
   "metadata": {
    "ExecuteTime": {
     "end_time": "2020-06-21T09:12:23.472407Z",
     "start_time": "2020-06-21T09:12:23.410795Z"
    },
    "hidden": true
   },
   "outputs": [],
   "source": [
    "from sklearn.model_selection import RandomizedSearchCV\n",
    "\n",
    "search = RandomizedSearchCV(m, para_space,\n",
    "                           cv = 3, n_jobs = -1,\n",
    "                           n_iter = 6, random_state=7331,\n",
    "                           verbose=2)"
   ]
  },
  {
   "cell_type": "code",
   "execution_count": 54,
   "metadata": {
    "ExecuteTime": {
     "end_time": "2020-06-21T09:49:09.628531Z",
     "start_time": "2020-06-21T09:12:24.470036Z"
    },
    "hidden": true,
    "scrolled": false
   },
   "outputs": [
    {
     "name": "stdout",
     "output_type": "stream",
     "text": [
      "Fitting 3 folds for each of 6 candidates, totalling 18 fits\n"
     ]
    },
    {
     "name": "stderr",
     "output_type": "stream",
     "text": [
      "[Parallel(n_jobs=-1)]: Using backend LokyBackend with 8 concurrent workers.\n",
      "[Parallel(n_jobs=-1)]: Done  13 out of  18 | elapsed: 28.4min remaining: 10.9min\n",
      "[Parallel(n_jobs=-1)]: Done  18 out of  18 | elapsed: 34.3min finished\n"
     ]
    },
    {
     "data": {
      "text/plain": [
       "RandomizedSearchCV(cv=3, error_score=nan,\n",
       "                   estimator=RandomForestClassifier(bootstrap=True,\n",
       "                                                    ccp_alpha=0.0,\n",
       "                                                    class_weight=None,\n",
       "                                                    criterion='gini',\n",
       "                                                    max_depth=None,\n",
       "                                                    max_features=0.5,\n",
       "                                                    max_leaf_nodes=None,\n",
       "                                                    max_samples=None,\n",
       "                                                    min_impurity_decrease=0.0,\n",
       "                                                    min_impurity_split=None,\n",
       "                                                    min_samples_leaf=5,\n",
       "                                                    min_samples_split=2,\n",
       "                                                    min_weight_fraction_leaf=0.0,\n",
       "                                                    n_estimators=100, n_jobs=-1,\n",
       "                                                    oob_score=False,\n",
       "                                                    random_state=None,\n",
       "                                                    verbose=0,\n",
       "                                                    warm_start=False),\n",
       "                   iid='deprecated', n_iter=6, n_jobs=-1,\n",
       "                   param_distributions={'max_features': [0.5, 'sqrt', 'log2'],\n",
       "                                        'min_samples_leaf': [1, 3, 5, 10]},\n",
       "                   pre_dispatch='2*n_jobs', random_state=7331, refit=True,\n",
       "                   return_train_score=False, scoring=None, verbose=2)"
      ]
     },
     "execution_count": 54,
     "metadata": {},
     "output_type": "execute_result"
    }
   ],
   "source": [
    "search.fit(full_X, full_y)"
   ]
  },
  {
   "cell_type": "markdown",
   "metadata": {
    "hidden": true
   },
   "source": [
    "Could've used quadratic weighted kappa function for scoring, but first attempt returned arguments error - can't afford to try again"
   ]
  },
  {
   "cell_type": "code",
   "execution_count": 55,
   "metadata": {
    "ExecuteTime": {
     "end_time": "2020-06-21T09:49:09.932046Z",
     "start_time": "2020-06-21T09:49:09.663568Z"
    },
    "hidden": true,
    "scrolled": true
   },
   "outputs": [
    {
     "data": {
      "text/plain": [
       "{'min_samples_leaf': 10, 'max_features': 'sqrt'}"
      ]
     },
     "execution_count": 55,
     "metadata": {},
     "output_type": "execute_result"
    }
   ],
   "source": [
    "search.best_params_"
   ]
  },
  {
   "cell_type": "markdown",
   "metadata": {
    "heading_collapsed": true,
    "hidden": true
   },
   "source": [
    "#### Finalise Model"
   ]
  },
  {
   "cell_type": "code",
   "execution_count": 82,
   "metadata": {
    "ExecuteTime": {
     "end_time": "2020-06-21T16:16:47.893818Z",
     "start_time": "2020-06-21T16:15:12.599831Z"
    },
    "collapsed": true,
    "hidden": true
   },
   "outputs": [
    {
     "data": {
      "text/plain": [
       "RandomForestClassifier(bootstrap=True, ccp_alpha=0.0, class_weight=None,\n",
       "                       criterion='gini', max_depth=None, max_features='sqrt',\n",
       "                       max_leaf_nodes=None, max_samples=None,\n",
       "                       min_impurity_decrease=0.0, min_impurity_split=None,\n",
       "                       min_samples_leaf=10, min_samples_split=2,\n",
       "                       min_weight_fraction_leaf=0.0, n_estimators=100,\n",
       "                       n_jobs=-1, oob_score=False, random_state=None, verbose=0,\n",
       "                       warm_start=False)"
      ]
     },
     "execution_count": 82,
     "metadata": {},
     "output_type": "execute_result"
    }
   ],
   "source": [
    "m = RandomForestClassifier(n_jobs=-1, oob_score=False,\n",
    "                          n_estimators = 100, min_samples_leaf = 10, max_features = \"sqrt\")\n",
    "m.fit(train_X, train_y)"
   ]
  },
  {
   "cell_type": "code",
   "execution_count": 83,
   "metadata": {
    "ExecuteTime": {
     "end_time": "2020-06-21T16:17:09.775212Z",
     "start_time": "2020-06-21T16:16:47.896804Z"
    },
    "hidden": true
   },
   "outputs": [
    {
     "name": "stdout",
     "output_type": "stream",
     "text": [
      "train_Kappa\n",
      "0.8258419699426817\n",
      "\n",
      "\n",
      "validation_Kappa\n",
      "0.6267297769674376\n"
     ]
    }
   ],
   "source": [
    "print_score(m)"
   ]
  },
  {
   "cell_type": "markdown",
   "metadata": {
    "hidden": true
   },
   "source": [
    "^^ this validation kappa 0.6267297769674376 is higher than all the Kaggle test set kappas >> probably good enough ba"
   ]
  },
  {
   "cell_type": "code",
   "execution_count": 84,
   "metadata": {
    "ExecuteTime": {
     "end_time": "2020-06-21T16:17:12.845073Z",
     "start_time": "2020-06-21T16:17:09.777207Z"
    },
    "hidden": true
   },
   "outputs": [
    {
     "data": {
      "text/plain": [
       "['tmp/mod3.pkl']"
      ]
     },
     "execution_count": 84,
     "metadata": {},
     "output_type": "execute_result"
    }
   ],
   "source": [
    "import joblib\n",
    "joblib.dump(m, \"tmp/mod3.pkl\")"
   ]
  },
  {
   "cell_type": "markdown",
   "metadata": {
    "heading_collapsed": true
   },
   "source": [
    "## Preprocess Test Set"
   ]
  },
  {
   "cell_type": "code",
   "execution_count": 33,
   "metadata": {
    "ExecuteTime": {
     "end_time": "2020-06-21T13:41:09.679871Z",
     "start_time": "2020-06-21T13:41:08.744516Z"
    },
    "hidden": true
   },
   "outputs": [],
   "source": [
    "import joblib\n",
    "\n",
    "m = joblib.load(\"tmp/mod3.pkl\")"
   ]
  },
  {
   "cell_type": "markdown",
   "metadata": {
    "heading_collapsed": true,
    "hidden": true
   },
   "source": [
    "### (1) Split JSON data"
   ]
  },
  {
   "cell_type": "code",
   "execution_count": 86,
   "metadata": {
    "ExecuteTime": {
     "end_time": "2020-06-21T16:30:32.424580Z",
     "start_time": "2020-06-21T16:19:44.790619Z"
    },
    "hidden": true,
    "scrolled": true
   },
   "outputs": [
    {
     "name": "stdout",
     "output_type": "stream",
     "text": [
      "Wall time: 1min 10s\n",
      "Wall time: 1min 17s\n",
      "Wall time: 1min 26s\n",
      "Wall time: 1min 16s\n",
      "Wall time: 1min 15s\n",
      "Wall time: 1min 17s\n",
      "Wall time: 1min 20s\n",
      "Wall time: 1min 16s\n"
     ]
    }
   ],
   "source": [
    "tes0 = pd.json_normalize(test.event_data.apply(json.loads))\n",
    "tes0.drop([\"event_code\", \"event_count\", \"game_time\"],axis=1, inplace=True)\n",
    "tes1 = pd.concat([tes0, test], axis=1)\n",
    "tes1.drop(\"event_data\", axis=1, inplace=True)\n",
    "\n",
    "%time tes1 = tes1.explode(\"stumps\")\n",
    "%time tes1 = tes1.explode(\"hats\")\n",
    "%time tes1 = tes1.explode(\"caterpillars\")\n",
    "%time tes1 = tes1.explode(\"hats_placed\")\n",
    "%time tes1 = tes1.explode(\"buckets\")\n",
    "%time tes1 = tes1.explode(\"buckets_placed\")\n",
    "%time tes1 = tes1.explode(\"pillars\")\n",
    "%time tes9 = tes1.explode(\"chests\")\n",
    "\n",
    "test = tes9.drop([\"crystals\", \"left\", \"right\", \"timestamp\"], axis = 1)"
   ]
  },
  {
   "cell_type": "code",
   "execution_count": 89,
   "metadata": {
    "ExecuteTime": {
     "end_time": "2020-06-21T16:32:43.573826Z",
     "start_time": "2020-06-21T16:31:26.501763Z"
    },
    "hidden": true,
    "scrolled": true
   },
   "outputs": [],
   "source": [
    "tt = test.reset_index()\n",
    "tt.to_csv(\"tmp/test.csv\")"
   ]
  },
  {
   "cell_type": "code",
   "execution_count": null,
   "metadata": {
    "hidden": true
   },
   "outputs": [],
   "source": [
    "test = pd.read_csv(\"tmp/test.csv\")"
   ]
  },
  {
   "cell_type": "markdown",
   "metadata": {
    "heading_collapsed": true,
    "hidden": true
   },
   "source": [
    "### (2) FastAI Preprocessing"
   ]
  },
  {
   "cell_type": "code",
   "execution_count": 90,
   "metadata": {
    "ExecuteTime": {
     "end_time": "2020-06-21T16:33:07.419641Z",
     "start_time": "2020-06-21T16:33:07.361271Z"
    },
    "hidden": true
   },
   "outputs": [],
   "source": [
    "ind = test.loc[:,\"installation_id\"]"
   ]
  },
  {
   "cell_type": "code",
   "execution_count": 91,
   "metadata": {
    "ExecuteTime": {
     "end_time": "2020-06-21T16:33:17.653967Z",
     "start_time": "2020-06-21T16:33:14.792375Z"
    },
    "hidden": true
   },
   "outputs": [],
   "source": [
    "test.drop(\"installation_id\", axis=1, inplace=True)"
   ]
  },
  {
   "cell_type": "code",
   "execution_count": 92,
   "metadata": {
    "ExecuteTime": {
     "end_time": "2020-06-21T16:33:34.200129Z",
     "start_time": "2020-06-21T16:33:18.991779Z"
    },
    "hidden": true
   },
   "outputs": [],
   "source": [
    "apply_cats(test, t10)"
   ]
  },
  {
   "cell_type": "code",
   "execution_count": 93,
   "metadata": {
    "ExecuteTime": {
     "end_time": "2020-06-21T16:33:36.750805Z",
     "start_time": "2020-06-21T16:33:36.681158Z"
    },
    "hidden": true
   },
   "outputs": [],
   "source": [
    "test.event_code = test.event_code.astype(\"category\", copy=False)"
   ]
  },
  {
   "cell_type": "code",
   "execution_count": 95,
   "metadata": {
    "ExecuteTime": {
     "end_time": "2020-06-21T16:33:56.535102Z",
     "start_time": "2020-06-21T16:33:55.153324Z"
    },
    "hidden": true,
    "scrolled": false
   },
   "outputs": [],
   "source": [
    "test2 = test[t10.drop([\"accuracy_group\"], axis=1).columns]"
   ]
  },
  {
   "cell_type": "code",
   "execution_count": 96,
   "metadata": {
    "ExecuteTime": {
     "end_time": "2020-06-21T16:34:00.680949Z",
     "start_time": "2020-06-21T16:33:58.516369Z"
    },
    "hidden": true
   },
   "outputs": [],
   "source": [
    "test_X, _, _ = proc_df(test2, na_dict = nas, max_n_cat = 7)"
   ]
  },
  {
   "cell_type": "markdown",
   "metadata": {
    "heading_collapsed": true,
    "hidden": true
   },
   "source": [
    "### (3) Keep columns"
   ]
  },
  {
   "cell_type": "code",
   "execution_count": 98,
   "metadata": {
    "ExecuteTime": {
     "end_time": "2020-06-21T16:34:41.320129Z",
     "start_time": "2020-06-21T16:34:41.188687Z"
    },
    "hidden": true,
    "scrolled": true
   },
   "outputs": [],
   "source": [
    "test_X = test_X[keep_cols]"
   ]
  },
  {
   "cell_type": "markdown",
   "metadata": {
    "heading_collapsed": true
   },
   "source": [
    "## Predict Test Set"
   ]
  },
  {
   "cell_type": "markdown",
   "metadata": {
    "heading_collapsed": true,
    "hidden": true
   },
   "source": [
    "### (Skip when re-run) Prediction"
   ]
  },
  {
   "cell_type": "code",
   "execution_count": 99,
   "metadata": {
    "ExecuteTime": {
     "end_time": "2020-06-21T16:34:49.144779Z",
     "start_time": "2020-06-21T16:34:43.267824Z"
    },
    "hidden": true
   },
   "outputs": [],
   "source": [
    "pred = m.predict(test_X)"
   ]
  },
  {
   "cell_type": "code",
   "execution_count": 100,
   "metadata": {
    "ExecuteTime": {
     "end_time": "2020-06-21T16:34:51.515221Z",
     "start_time": "2020-06-21T16:34:51.337322Z"
    },
    "hidden": true
   },
   "outputs": [],
   "source": [
    "np.save(\"tmp/ind.npy\", np.array(ind))\n",
    "np.save(\"tmp/pred.npy\", np.array(pred))"
   ]
  },
  {
   "cell_type": "code",
   "execution_count": 101,
   "metadata": {
    "ExecuteTime": {
     "end_time": "2020-06-21T16:34:52.918272Z",
     "start_time": "2020-06-21T16:34:52.511034Z"
    },
    "hidden": true,
    "scrolled": true
   },
   "outputs": [],
   "source": [
    "comb = np.array([ind, pred])"
   ]
  },
  {
   "cell_type": "code",
   "execution_count": 102,
   "metadata": {
    "ExecuteTime": {
     "end_time": "2020-06-21T16:36:05.286821Z",
     "start_time": "2020-06-21T16:34:53.917521Z"
    },
    "hidden": true
   },
   "outputs": [],
   "source": [
    "submit = pd.DataFrame(data=comb)"
   ]
  },
  {
   "cell_type": "code",
   "execution_count": 103,
   "metadata": {
    "ExecuteTime": {
     "end_time": "2020-06-21T16:36:36.063987Z",
     "start_time": "2020-06-21T16:36:35.877363Z"
    },
    "hidden": true
   },
   "outputs": [],
   "source": [
    "submit2 = submit.T"
   ]
  },
  {
   "cell_type": "code",
   "execution_count": 104,
   "metadata": {
    "ExecuteTime": {
     "end_time": "2020-06-21T16:36:39.182665Z",
     "start_time": "2020-06-21T16:36:39.091860Z"
    },
    "hidden": true
   },
   "outputs": [],
   "source": [
    "submit3 = submit2.rename(columns={0:\"installation_id\", 1:\"accuracy_group\"})"
   ]
  },
  {
   "cell_type": "code",
   "execution_count": 110,
   "metadata": {
    "ExecuteTime": {
     "end_time": "2020-06-21T16:39:01.553266Z",
     "start_time": "2020-06-21T16:39:01.473153Z"
    },
    "hidden": true
   },
   "outputs": [],
   "source": [
    "submit3.accuracy_group = submit3.accuracy_group - 1"
   ]
  },
  {
   "cell_type": "code",
   "execution_count": 112,
   "metadata": {
    "ExecuteTime": {
     "end_time": "2020-06-21T16:39:13.679213Z",
     "start_time": "2020-06-21T16:39:13.535361Z"
    },
    "hidden": true
   },
   "outputs": [],
   "source": [
    "submit3.to_feather(\"tmp/sub3\")"
   ]
  },
  {
   "cell_type": "markdown",
   "metadata": {
    "heading_collapsed": true,
    "hidden": true
   },
   "source": [
    "### How to decide final prediction"
   ]
  },
  {
   "cell_type": "markdown",
   "metadata": {
    "hidden": true
   },
   "source": [
    "Group by installation id >> median/mean/max of accuracy group as prediction"
   ]
  },
  {
   "cell_type": "code",
   "execution_count": null,
   "metadata": {
    "hidden": true
   },
   "outputs": [],
   "source": [
    "submit3 = pd.read_feather(\"tmp/sub3\")"
   ]
  },
  {
   "cell_type": "code",
   "execution_count": 113,
   "metadata": {
    "ExecuteTime": {
     "end_time": "2020-06-21T16:39:19.151729Z",
     "start_time": "2020-06-21T16:39:19.034743Z"
    },
    "hidden": true
   },
   "outputs": [
    {
     "data": {
      "text/plain": [
       "1000"
      ]
     },
     "execution_count": 113,
     "metadata": {},
     "output_type": "execute_result"
    }
   ],
   "source": [
    "submit3.installation_id.nunique()"
   ]
  },
  {
   "cell_type": "code",
   "execution_count": 115,
   "metadata": {
    "ExecuteTime": {
     "end_time": "2020-06-21T16:39:25.325191Z",
     "start_time": "2020-06-21T16:39:25.265001Z"
    },
    "hidden": true
   },
   "outputs": [],
   "source": [
    "submit3.accuracy_group = submit3.accuracy_group.astype(\"int8\", copy=False)"
   ]
  },
  {
   "cell_type": "code",
   "execution_count": 114,
   "metadata": {
    "ExecuteTime": {
     "end_time": "2020-06-21T16:39:22.541920Z",
     "start_time": "2020-06-21T16:39:22.477133Z"
    },
    "hidden": true,
    "scrolled": true
   },
   "outputs": [
    {
     "data": {
      "text/plain": [
       "array([0, 3, 2, 1], dtype=int8)"
      ]
     },
     "execution_count": 114,
     "metadata": {},
     "output_type": "execute_result"
    }
   ],
   "source": [
    "submit3.accuracy_group.unique()"
   ]
  },
  {
   "cell_type": "markdown",
   "metadata": {
    "hidden": true
   },
   "source": [
    "I take the median as the prediction label"
   ]
  },
  {
   "cell_type": "code",
   "execution_count": 121,
   "metadata": {
    "ExecuteTime": {
     "end_time": "2020-06-21T16:41:21.593452Z",
     "start_time": "2020-06-21T16:41:21.445587Z"
    },
    "hidden": true
   },
   "outputs": [],
   "source": [
    "submit4 = submit3.groupby(\"installation_id\").median()"
   ]
  },
  {
   "cell_type": "code",
   "execution_count": 122,
   "metadata": {
    "ExecuteTime": {
     "end_time": "2020-06-21T16:41:50.407681Z",
     "start_time": "2020-06-21T16:41:50.351798Z"
    },
    "hidden": true
   },
   "outputs": [],
   "source": [
    "submit4.accuracy_group = submit4.accuracy_group.astype(int)"
   ]
  },
  {
   "cell_type": "code",
   "execution_count": 124,
   "metadata": {
    "ExecuteTime": {
     "end_time": "2020-06-21T16:42:16.100489Z",
     "start_time": "2020-06-21T16:42:16.037839Z"
    },
    "collapsed": true,
    "hidden": true
   },
   "outputs": [
    {
     "data": {
      "text/plain": [
       "array([1, 1, 1, 1, 1, 1, 1, 1, 1, 0, 2, 1, 1, 1, 1, 3, 1, 1, 2, 0, 1, 1, 1, 1, 1, 1, 1, 0, 0, 1, 1, 0, 1, 1,\n",
       "       1, 2, 2, 0, 1, 2, 1, 3, 2, 2, 1, 1, 2, 1, 3, 2, 0, 1, 1, 1, 1, 1, 2, 1, 3, 1, 1, 0, 1, 2, 1, 2, 1, 1,\n",
       "       3, 1, 0, 1, 1, 1, 2, 1, 1, 1, 1, 1, 1, 1, 3, 2, 1, 3, 3, 1, 1, 1, 1, 1, 1, 2, 1, 1, 1, 1, 1, 1, 1, 1,\n",
       "       1, 1, 1, 2, 0, 1, 2, 1, 1, 2, 1, 1, 1, 1, 3, 1, 1, 1, 2, 1, 2, 1, 1, 1, 1, 0, 1, 1, 1, 1, 1, 0, 1, 1,\n",
       "       1, 1, 1, 1, 1, 3, 0, 0, 1, 1, 1, 1, 2, 1, 0, 1, 1, 1, 0, 1, 1, 1, 1, 1, 1, 1, 1, 2, 1, 1, 1, 1, 1, 1,\n",
       "       1, 3, 1, 2, 1, 1, 1, 2, 3, 1, 3, 1, 1, 3, 1, 2, 2, 1, 1, 1, 1, 1, 1, 1, 3, 2, 1, 1, 3, 1, 3, 1, 1, 1,\n",
       "       1, 1, 1, 1, 1, 0, 1, 1, 1, 1, 1, 1, 2, 1, 1, 1, 1, 2, 1, 0, 2, 1, 2, 1, 1, 1, 3, 1, 1, 1, 1, 1, 1, 1,\n",
       "       1, 0, 1, 1, 1, 1, 2, 1, 1, 1, 1, 1, 1, 1, 2, 1, 2, 1, 1, 1, 1, 1, 1, 3, 1, 1, 1, 1, 0, 1, 2, 1, 1, 1,\n",
       "       1, 3, 1, 1, 1, 1, 1, 1, 1, 1, 3, 0, 1, 1, 0, 2, 3, 2, 1, 3, 1, 2, 1, 1, 1, 3, 3, 1, 0, 1, 1, 1, 1, 3,\n",
       "       1, 1, 1, 3, 1, 1, 1, 1, 1, 3, 1, 1, 1, 1, 3, 1, 3, 1, 3, 1, 1, 1, 0, 2, 1, 1, 1, 3, 1, 0, 3, 1, 1, 2,\n",
       "       2, 1, 1, 1, 1, 1, 3, 1, 1, 1, 1, 1, 1, 2, 3, 2, 1, 1, 1, 2, 1, 1, 1, 1, 1, 1, 1, 1, 1, 1, 1, 1, 0, 2,\n",
       "       1, 1, 2, 2, 1, 3, 1, 1, 1, 2, 1, 1, 3, 1, 1, 2, 1, 0, 1, 1, 1, 1, 3, 1, 1, 3, 1, 3, 1, 1, 1, 1, 1, 1,\n",
       "       1, 1, 1, 3, 1, 1, 2, 2, 1, 2, 1, 1, 3, 3, 1, 1, 1, 1, 3, 1, 1, 2, 1, 1, 3, 1, 1, 1, 2, 2, 2, 1, 1, 3,\n",
       "       1, 1, 1, 1, 1, 1, 1, 1, 1, 1, 3, 3, 1, 1, 1, 0, 1, 3, 0, 1, 2, 1, 1, 1, 1, 1, 1, 1, 1, 1, 3, 1, 1, 1,\n",
       "       1, 1, 1, 1, 1, 1, 1, 1, 1, 3, 1, 1, 1, 1, 0, 1, 2, 1, 1, 3, 2, 1, 1, 1, 3, 1, 1, 1, 1, 1, 1, 1, 1, 1,\n",
       "       1, 1, 1, 1, 1, 1, 1, 1, 1, 1, 1, 3, 1, 3, 1, 1, 1, 3, 0, 1, 1, 2, 1, 2, 1, 1, 1, 1, 0, 3, 1, 0, 1, 1,\n",
       "       1, 1, 1, 1, 1, 1, 1, 1, 1, 1, 1, 1, 1, 1, 1, 1, 1, 1, 1, 1, 1, 1, 2, 1, 1, 3, 1, 1, 1, 2, 1, 1, 1, 1,\n",
       "       3, 1, 1, 2, 1, 1, 1, 1, 2, 1, 0, 1, 0, 1, 1, 1, 1, 1, 2, 1, 1, 1, 1, 1, 1, 1, 0, 1, 1, 1, 1, 1, 1, 1,\n",
       "       1, 1, 1, 2, 1, 1, 1, 1, 2, 1, 1, 0, 1, 2, 1, 3, 1, 1, 1, 1, 1, 1, 1, 1, 1, 1, 1, 1, 0, 1, 1, 1, 1, 3,\n",
       "       1, 3, 1, 1, 1, 1, 1, 0, 3, 1, 3, 1, 1, 1, 1, 1, 1, 3, 2, 1, 0, 0, 1, 1, 1, 1, 2, 1, 1, 3, 2, 1, 1, 3,\n",
       "       2, 2, 1, 0, 0, 1, 1, 1, 2, 1, 1, 1, 3, 1, 2, 1, 2, 1, 3, 2, 1, 3, 1, 2, 1, 1, 3, 3, 2, 2, 1, 1, 2, 1,\n",
       "       1, 1, 1, 1, 2, 1, 1, 1, 1, 1, 1, 1, 1, 1, 1, 2, 1, 1, 1, 2, 1, 0, 1, 1, 1, 1, 1, 1, 1, 0, 1, 3, 0, 1,\n",
       "       1, 1, 2, 1, 1, 1, 1, 1, 3, 1, 0, 3, 1, 3, 1, 1, 2, 1, 0, 1, 2, 1, 1, 3, 3, 1, 1, 1, 1, 1, 0, 3, 1, 1,\n",
       "       2, 1, 1, 1, 3, 1, 1, 1, 3, 1, 2, 3, 1, 1, 1, 1, 3, 1, 1, 2, 1, 1, 1, 1, 1, 1, 1, 3, 1, 1, 1, 1, 1, 3,\n",
       "       1, 1, 1, 1, 3, 2, 1, 2, 1, 1, 1, 0, 2, 2, 1, 1, 1, 1, 1, 1, 1, 0, 1, 1, 3, 1, 1, 1, 1, 0, 1, 1, 1, 2,\n",
       "       2, 1, 1, 1, 3, 1, 1, 1, 1, 1, 1, 1, 2, 1, 1, 1, 2, 1, 3, 1, 3, 1, 1, 1, 1, 1, 1, 1, 1, 1, 0, 1, 1, 1,\n",
       "       1, 1, 1, 1, 3, 3, 1, 0, 1, 1, 1, 2, 1, 1, 1, 0, 1, 1, 1, 2, 1, 1, 1, 1, 3, 1, 1, 2, 3, 1, 2, 0, 1, 2,\n",
       "       1, 1, 1, 3, 3, 1, 1, 1, 1, 1, 1, 1, 2, 1, 1, 1, 1, 1, 1, 1, 1, 1, 1, 3, 1, 1, 3, 1, 1, 1, 1, 1, 3, 1,\n",
       "       1, 3, 1, 1, 2, 0, 3, 1, 2, 0, 1, 1, 1, 1, 1, 2, 1, 2, 3, 1, 3, 1, 1, 1, 1, 1, 2, 1, 1, 1, 1, 1, 3, 1,\n",
       "       1, 3, 2, 2, 1, 2, 1, 1, 1, 1, 2, 1, 2, 3])"
      ]
     },
     "execution_count": 124,
     "metadata": {},
     "output_type": "execute_result"
    }
   ],
   "source": [
    "submit4.accuracy_group.values"
   ]
  },
  {
   "cell_type": "markdown",
   "metadata": {
    "heading_collapsed": true,
    "hidden": true
   },
   "source": [
    "### Save as csv"
   ]
  },
  {
   "cell_type": "code",
   "execution_count": 125,
   "metadata": {
    "ExecuteTime": {
     "end_time": "2020-06-21T16:43:38.808765Z",
     "start_time": "2020-06-21T16:43:38.749953Z"
    },
    "hidden": true
   },
   "outputs": [],
   "source": [
    "submit4.to_csv(\"submission.csv\")"
   ]
  }
 ],
 "metadata": {
  "kernelspec": {
   "display_name": "Python 3",
   "language": "python",
   "name": "python3"
  },
  "language_info": {
   "codemirror_mode": {
    "name": "ipython",
    "version": 3
   },
   "file_extension": ".py",
   "mimetype": "text/x-python",
   "name": "python",
   "nbconvert_exporter": "python",
   "pygments_lexer": "ipython3",
   "version": "3.6.10"
  }
 },
 "nbformat": 4,
 "nbformat_minor": 4
}
